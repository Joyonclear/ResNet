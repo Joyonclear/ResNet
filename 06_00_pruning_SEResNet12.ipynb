{
  "nbformat": 4,
  "nbformat_minor": 0,
  "metadata": {
    "colab": {
      "name": "06_00_pruning_SEResNet12.ipynb",
      "provenance": [],
      "collapsed_sections": [
        "grc-bqbumwId",
        "CCRtZPFlhhgw",
        "31WpmqaQiCBE",
        "dO3OW8HXkU9f",
        "612VTm8MGcIg",
        "6i4QGn8GlsT8",
        "Pzp3OVaulzAf",
        "uY9QV99PKw5N",
        "sqGoQk64RKcj",
        "j_R2OzXcR1Ks"
      ],
      "include_colab_link": true
    },
    "kernelspec": {
      "display_name": "Python 3",
      "name": "python3"
    },
    "language_info": {
      "name": "python"
    },
    "widgets": {
      "application/vnd.jupyter.widget-state+json": {
        "2814973ffa8f4fd7b54009a23d5ff6ae": {
          "model_module": "@jupyter-widgets/controls",
          "model_name": "HBoxModel",
          "model_module_version": "1.5.0",
          "state": {
            "_view_name": "HBoxView",
            "_dom_classes": [],
            "_model_name": "HBoxModel",
            "_view_module": "@jupyter-widgets/controls",
            "_model_module_version": "1.5.0",
            "_view_count": null,
            "_view_module_version": "1.5.0",
            "box_style": "",
            "layout": "IPY_MODEL_96d01391e3cb41838f509e6322b0a649",
            "_model_module": "@jupyter-widgets/controls",
            "children": [
              "IPY_MODEL_dc061c00b3a44cdabef94ffa9e1c0759",
              "IPY_MODEL_b404c864aa80461da34e5e21f37d2000",
              "IPY_MODEL_ff8bb779b044477b915910e7e54935cf"
            ]
          }
        },
        "96d01391e3cb41838f509e6322b0a649": {
          "model_module": "@jupyter-widgets/base",
          "model_name": "LayoutModel",
          "model_module_version": "1.2.0",
          "state": {
            "_view_name": "LayoutView",
            "grid_template_rows": null,
            "right": null,
            "justify_content": null,
            "_view_module": "@jupyter-widgets/base",
            "overflow": null,
            "_model_module_version": "1.2.0",
            "_view_count": null,
            "flex_flow": null,
            "width": null,
            "min_width": null,
            "border": null,
            "align_items": null,
            "bottom": null,
            "_model_module": "@jupyter-widgets/base",
            "top": null,
            "grid_column": null,
            "overflow_y": null,
            "overflow_x": null,
            "grid_auto_flow": null,
            "grid_area": null,
            "grid_template_columns": null,
            "flex": null,
            "_model_name": "LayoutModel",
            "justify_items": null,
            "grid_row": null,
            "max_height": null,
            "align_content": null,
            "visibility": null,
            "align_self": null,
            "height": null,
            "min_height": null,
            "padding": null,
            "grid_auto_rows": null,
            "grid_gap": null,
            "max_width": null,
            "order": null,
            "_view_module_version": "1.2.0",
            "grid_template_areas": null,
            "object_position": null,
            "object_fit": null,
            "grid_auto_columns": null,
            "margin": null,
            "display": null,
            "left": null
          }
        },
        "dc061c00b3a44cdabef94ffa9e1c0759": {
          "model_module": "@jupyter-widgets/controls",
          "model_name": "HTMLModel",
          "model_module_version": "1.5.0",
          "state": {
            "_view_name": "HTMLView",
            "style": "IPY_MODEL_5d0ea130e9c44cf9b1d2de0509a78f30",
            "_dom_classes": [],
            "description": "",
            "_model_name": "HTMLModel",
            "placeholder": "​",
            "_view_module": "@jupyter-widgets/controls",
            "_model_module_version": "1.5.0",
            "value": "",
            "_view_count": null,
            "_view_module_version": "1.5.0",
            "description_tooltip": null,
            "_model_module": "@jupyter-widgets/controls",
            "layout": "IPY_MODEL_046a2cf262004f46861b2856c70b31bc"
          }
        },
        "b404c864aa80461da34e5e21f37d2000": {
          "model_module": "@jupyter-widgets/controls",
          "model_name": "FloatProgressModel",
          "model_module_version": "1.5.0",
          "state": {
            "_view_name": "ProgressView",
            "style": "IPY_MODEL_6e8e4f53f2e744ca9e4d857af87b67a1",
            "_dom_classes": [],
            "description": "",
            "_model_name": "FloatProgressModel",
            "bar_style": "success",
            "max": 170498071,
            "_view_module": "@jupyter-widgets/controls",
            "_model_module_version": "1.5.0",
            "value": 170498071,
            "_view_count": null,
            "_view_module_version": "1.5.0",
            "orientation": "horizontal",
            "min": 0,
            "description_tooltip": null,
            "_model_module": "@jupyter-widgets/controls",
            "layout": "IPY_MODEL_6df0f0554fde45aba162a8736bb518a3"
          }
        },
        "ff8bb779b044477b915910e7e54935cf": {
          "model_module": "@jupyter-widgets/controls",
          "model_name": "HTMLModel",
          "model_module_version": "1.5.0",
          "state": {
            "_view_name": "HTMLView",
            "style": "IPY_MODEL_87b27af3d6bb49abb39eeeb132a1cb8e",
            "_dom_classes": [],
            "description": "",
            "_model_name": "HTMLModel",
            "placeholder": "​",
            "_view_module": "@jupyter-widgets/controls",
            "_model_module_version": "1.5.0",
            "value": " 170499072/? [00:06&lt;00:00, 30034061.36it/s]",
            "_view_count": null,
            "_view_module_version": "1.5.0",
            "description_tooltip": null,
            "_model_module": "@jupyter-widgets/controls",
            "layout": "IPY_MODEL_2217476ffe68476a8488173bba719a9c"
          }
        },
        "5d0ea130e9c44cf9b1d2de0509a78f30": {
          "model_module": "@jupyter-widgets/controls",
          "model_name": "DescriptionStyleModel",
          "model_module_version": "1.5.0",
          "state": {
            "_view_name": "StyleView",
            "_model_name": "DescriptionStyleModel",
            "description_width": "",
            "_view_module": "@jupyter-widgets/base",
            "_model_module_version": "1.5.0",
            "_view_count": null,
            "_view_module_version": "1.2.0",
            "_model_module": "@jupyter-widgets/controls"
          }
        },
        "046a2cf262004f46861b2856c70b31bc": {
          "model_module": "@jupyter-widgets/base",
          "model_name": "LayoutModel",
          "model_module_version": "1.2.0",
          "state": {
            "_view_name": "LayoutView",
            "grid_template_rows": null,
            "right": null,
            "justify_content": null,
            "_view_module": "@jupyter-widgets/base",
            "overflow": null,
            "_model_module_version": "1.2.0",
            "_view_count": null,
            "flex_flow": null,
            "width": null,
            "min_width": null,
            "border": null,
            "align_items": null,
            "bottom": null,
            "_model_module": "@jupyter-widgets/base",
            "top": null,
            "grid_column": null,
            "overflow_y": null,
            "overflow_x": null,
            "grid_auto_flow": null,
            "grid_area": null,
            "grid_template_columns": null,
            "flex": null,
            "_model_name": "LayoutModel",
            "justify_items": null,
            "grid_row": null,
            "max_height": null,
            "align_content": null,
            "visibility": null,
            "align_self": null,
            "height": null,
            "min_height": null,
            "padding": null,
            "grid_auto_rows": null,
            "grid_gap": null,
            "max_width": null,
            "order": null,
            "_view_module_version": "1.2.0",
            "grid_template_areas": null,
            "object_position": null,
            "object_fit": null,
            "grid_auto_columns": null,
            "margin": null,
            "display": null,
            "left": null
          }
        },
        "6e8e4f53f2e744ca9e4d857af87b67a1": {
          "model_module": "@jupyter-widgets/controls",
          "model_name": "ProgressStyleModel",
          "model_module_version": "1.5.0",
          "state": {
            "_view_name": "StyleView",
            "_model_name": "ProgressStyleModel",
            "description_width": "",
            "_view_module": "@jupyter-widgets/base",
            "_model_module_version": "1.5.0",
            "_view_count": null,
            "_view_module_version": "1.2.0",
            "bar_color": null,
            "_model_module": "@jupyter-widgets/controls"
          }
        },
        "6df0f0554fde45aba162a8736bb518a3": {
          "model_module": "@jupyter-widgets/base",
          "model_name": "LayoutModel",
          "model_module_version": "1.2.0",
          "state": {
            "_view_name": "LayoutView",
            "grid_template_rows": null,
            "right": null,
            "justify_content": null,
            "_view_module": "@jupyter-widgets/base",
            "overflow": null,
            "_model_module_version": "1.2.0",
            "_view_count": null,
            "flex_flow": null,
            "width": null,
            "min_width": null,
            "border": null,
            "align_items": null,
            "bottom": null,
            "_model_module": "@jupyter-widgets/base",
            "top": null,
            "grid_column": null,
            "overflow_y": null,
            "overflow_x": null,
            "grid_auto_flow": null,
            "grid_area": null,
            "grid_template_columns": null,
            "flex": null,
            "_model_name": "LayoutModel",
            "justify_items": null,
            "grid_row": null,
            "max_height": null,
            "align_content": null,
            "visibility": null,
            "align_self": null,
            "height": null,
            "min_height": null,
            "padding": null,
            "grid_auto_rows": null,
            "grid_gap": null,
            "max_width": null,
            "order": null,
            "_view_module_version": "1.2.0",
            "grid_template_areas": null,
            "object_position": null,
            "object_fit": null,
            "grid_auto_columns": null,
            "margin": null,
            "display": null,
            "left": null
          }
        },
        "87b27af3d6bb49abb39eeeb132a1cb8e": {
          "model_module": "@jupyter-widgets/controls",
          "model_name": "DescriptionStyleModel",
          "model_module_version": "1.5.0",
          "state": {
            "_view_name": "StyleView",
            "_model_name": "DescriptionStyleModel",
            "description_width": "",
            "_view_module": "@jupyter-widgets/base",
            "_model_module_version": "1.5.0",
            "_view_count": null,
            "_view_module_version": "1.2.0",
            "_model_module": "@jupyter-widgets/controls"
          }
        },
        "2217476ffe68476a8488173bba719a9c": {
          "model_module": "@jupyter-widgets/base",
          "model_name": "LayoutModel",
          "model_module_version": "1.2.0",
          "state": {
            "_view_name": "LayoutView",
            "grid_template_rows": null,
            "right": null,
            "justify_content": null,
            "_view_module": "@jupyter-widgets/base",
            "overflow": null,
            "_model_module_version": "1.2.0",
            "_view_count": null,
            "flex_flow": null,
            "width": null,
            "min_width": null,
            "border": null,
            "align_items": null,
            "bottom": null,
            "_model_module": "@jupyter-widgets/base",
            "top": null,
            "grid_column": null,
            "overflow_y": null,
            "overflow_x": null,
            "grid_auto_flow": null,
            "grid_area": null,
            "grid_template_columns": null,
            "flex": null,
            "_model_name": "LayoutModel",
            "justify_items": null,
            "grid_row": null,
            "max_height": null,
            "align_content": null,
            "visibility": null,
            "align_self": null,
            "height": null,
            "min_height": null,
            "padding": null,
            "grid_auto_rows": null,
            "grid_gap": null,
            "max_width": null,
            "order": null,
            "_view_module_version": "1.2.0",
            "grid_template_areas": null,
            "object_position": null,
            "object_fit": null,
            "grid_auto_columns": null,
            "margin": null,
            "display": null,
            "left": null
          }
        },
        "5ae020a19d9843fca7558ccf8f18d87e": {
          "model_module": "@jupyter-widgets/controls",
          "model_name": "HBoxModel",
          "model_module_version": "1.5.0",
          "state": {
            "_view_name": "HBoxView",
            "_dom_classes": [],
            "_model_name": "HBoxModel",
            "_view_module": "@jupyter-widgets/controls",
            "_model_module_version": "1.5.0",
            "_view_count": null,
            "_view_module_version": "1.5.0",
            "box_style": "",
            "layout": "IPY_MODEL_1fd370b3b9324ab3a228db4c457b60c0",
            "_model_module": "@jupyter-widgets/controls",
            "children": [
              "IPY_MODEL_2fda45af5f264fb48bf4fe9a009762d7",
              "IPY_MODEL_aa8f0ff095044f6da157b88211764dce",
              "IPY_MODEL_bc952b57969241f5b6bc73937fc9b784"
            ]
          }
        },
        "1fd370b3b9324ab3a228db4c457b60c0": {
          "model_module": "@jupyter-widgets/base",
          "model_name": "LayoutModel",
          "model_module_version": "1.2.0",
          "state": {
            "_view_name": "LayoutView",
            "grid_template_rows": null,
            "right": null,
            "justify_content": null,
            "_view_module": "@jupyter-widgets/base",
            "overflow": null,
            "_model_module_version": "1.2.0",
            "_view_count": null,
            "flex_flow": null,
            "width": null,
            "min_width": null,
            "border": null,
            "align_items": null,
            "bottom": null,
            "_model_module": "@jupyter-widgets/base",
            "top": null,
            "grid_column": null,
            "overflow_y": null,
            "overflow_x": null,
            "grid_auto_flow": null,
            "grid_area": null,
            "grid_template_columns": null,
            "flex": null,
            "_model_name": "LayoutModel",
            "justify_items": null,
            "grid_row": null,
            "max_height": null,
            "align_content": null,
            "visibility": null,
            "align_self": null,
            "height": null,
            "min_height": null,
            "padding": null,
            "grid_auto_rows": null,
            "grid_gap": null,
            "max_width": null,
            "order": null,
            "_view_module_version": "1.2.0",
            "grid_template_areas": null,
            "object_position": null,
            "object_fit": null,
            "grid_auto_columns": null,
            "margin": null,
            "display": null,
            "left": null
          }
        },
        "2fda45af5f264fb48bf4fe9a009762d7": {
          "model_module": "@jupyter-widgets/controls",
          "model_name": "HTMLModel",
          "model_module_version": "1.5.0",
          "state": {
            "_view_name": "HTMLView",
            "style": "IPY_MODEL_063ba2a7e99342f2b859d3c89d9af7c9",
            "_dom_classes": [],
            "description": "",
            "_model_name": "HTMLModel",
            "placeholder": "​",
            "_view_module": "@jupyter-widgets/controls",
            "_model_module_version": "1.5.0",
            "value": "100%",
            "_view_count": null,
            "_view_module_version": "1.5.0",
            "description_tooltip": null,
            "_model_module": "@jupyter-widgets/controls",
            "layout": "IPY_MODEL_52ccfabde0554b12a9c4ccfdfd7e4c01"
          }
        },
        "aa8f0ff095044f6da157b88211764dce": {
          "model_module": "@jupyter-widgets/controls",
          "model_name": "FloatProgressModel",
          "model_module_version": "1.5.0",
          "state": {
            "_view_name": "ProgressView",
            "style": "IPY_MODEL_ab690c3f568d4573944129d1c9f029c1",
            "_dom_classes": [],
            "description": "",
            "_model_name": "FloatProgressModel",
            "bar_style": "success",
            "max": 196,
            "_view_module": "@jupyter-widgets/controls",
            "_model_module_version": "1.5.0",
            "value": 196,
            "_view_count": null,
            "_view_module_version": "1.5.0",
            "orientation": "horizontal",
            "min": 0,
            "description_tooltip": null,
            "_model_module": "@jupyter-widgets/controls",
            "layout": "IPY_MODEL_28fe217bf9294cd391593932a21fe47b"
          }
        },
        "bc952b57969241f5b6bc73937fc9b784": {
          "model_module": "@jupyter-widgets/controls",
          "model_name": "HTMLModel",
          "model_module_version": "1.5.0",
          "state": {
            "_view_name": "HTMLView",
            "style": "IPY_MODEL_647f5ea4399346ed9d53742820f250ed",
            "_dom_classes": [],
            "description": "",
            "_model_name": "HTMLModel",
            "placeholder": "​",
            "_view_module": "@jupyter-widgets/controls",
            "_model_module_version": "1.5.0",
            "value": " 196/196 [00:17&lt;00:00, 12.65it/s]",
            "_view_count": null,
            "_view_module_version": "1.5.0",
            "description_tooltip": null,
            "_model_module": "@jupyter-widgets/controls",
            "layout": "IPY_MODEL_e86c78e9a643457f98515053ae2a74b0"
          }
        },
        "063ba2a7e99342f2b859d3c89d9af7c9": {
          "model_module": "@jupyter-widgets/controls",
          "model_name": "DescriptionStyleModel",
          "model_module_version": "1.5.0",
          "state": {
            "_view_name": "StyleView",
            "_model_name": "DescriptionStyleModel",
            "description_width": "",
            "_view_module": "@jupyter-widgets/base",
            "_model_module_version": "1.5.0",
            "_view_count": null,
            "_view_module_version": "1.2.0",
            "_model_module": "@jupyter-widgets/controls"
          }
        },
        "52ccfabde0554b12a9c4ccfdfd7e4c01": {
          "model_module": "@jupyter-widgets/base",
          "model_name": "LayoutModel",
          "model_module_version": "1.2.0",
          "state": {
            "_view_name": "LayoutView",
            "grid_template_rows": null,
            "right": null,
            "justify_content": null,
            "_view_module": "@jupyter-widgets/base",
            "overflow": null,
            "_model_module_version": "1.2.0",
            "_view_count": null,
            "flex_flow": null,
            "width": null,
            "min_width": null,
            "border": null,
            "align_items": null,
            "bottom": null,
            "_model_module": "@jupyter-widgets/base",
            "top": null,
            "grid_column": null,
            "overflow_y": null,
            "overflow_x": null,
            "grid_auto_flow": null,
            "grid_area": null,
            "grid_template_columns": null,
            "flex": null,
            "_model_name": "LayoutModel",
            "justify_items": null,
            "grid_row": null,
            "max_height": null,
            "align_content": null,
            "visibility": null,
            "align_self": null,
            "height": null,
            "min_height": null,
            "padding": null,
            "grid_auto_rows": null,
            "grid_gap": null,
            "max_width": null,
            "order": null,
            "_view_module_version": "1.2.0",
            "grid_template_areas": null,
            "object_position": null,
            "object_fit": null,
            "grid_auto_columns": null,
            "margin": null,
            "display": null,
            "left": null
          }
        },
        "ab690c3f568d4573944129d1c9f029c1": {
          "model_module": "@jupyter-widgets/controls",
          "model_name": "ProgressStyleModel",
          "model_module_version": "1.5.0",
          "state": {
            "_view_name": "StyleView",
            "_model_name": "ProgressStyleModel",
            "description_width": "",
            "_view_module": "@jupyter-widgets/base",
            "_model_module_version": "1.5.0",
            "_view_count": null,
            "_view_module_version": "1.2.0",
            "bar_color": null,
            "_model_module": "@jupyter-widgets/controls"
          }
        },
        "28fe217bf9294cd391593932a21fe47b": {
          "model_module": "@jupyter-widgets/base",
          "model_name": "LayoutModel",
          "model_module_version": "1.2.0",
          "state": {
            "_view_name": "LayoutView",
            "grid_template_rows": null,
            "right": null,
            "justify_content": null,
            "_view_module": "@jupyter-widgets/base",
            "overflow": null,
            "_model_module_version": "1.2.0",
            "_view_count": null,
            "flex_flow": null,
            "width": null,
            "min_width": null,
            "border": null,
            "align_items": null,
            "bottom": null,
            "_model_module": "@jupyter-widgets/base",
            "top": null,
            "grid_column": null,
            "overflow_y": null,
            "overflow_x": null,
            "grid_auto_flow": null,
            "grid_area": null,
            "grid_template_columns": null,
            "flex": null,
            "_model_name": "LayoutModel",
            "justify_items": null,
            "grid_row": null,
            "max_height": null,
            "align_content": null,
            "visibility": null,
            "align_self": null,
            "height": null,
            "min_height": null,
            "padding": null,
            "grid_auto_rows": null,
            "grid_gap": null,
            "max_width": null,
            "order": null,
            "_view_module_version": "1.2.0",
            "grid_template_areas": null,
            "object_position": null,
            "object_fit": null,
            "grid_auto_columns": null,
            "margin": null,
            "display": null,
            "left": null
          }
        },
        "647f5ea4399346ed9d53742820f250ed": {
          "model_module": "@jupyter-widgets/controls",
          "model_name": "DescriptionStyleModel",
          "model_module_version": "1.5.0",
          "state": {
            "_view_name": "StyleView",
            "_model_name": "DescriptionStyleModel",
            "description_width": "",
            "_view_module": "@jupyter-widgets/base",
            "_model_module_version": "1.5.0",
            "_view_count": null,
            "_view_module_version": "1.2.0",
            "_model_module": "@jupyter-widgets/controls"
          }
        },
        "e86c78e9a643457f98515053ae2a74b0": {
          "model_module": "@jupyter-widgets/base",
          "model_name": "LayoutModel",
          "model_module_version": "1.2.0",
          "state": {
            "_view_name": "LayoutView",
            "grid_template_rows": null,
            "right": null,
            "justify_content": null,
            "_view_module": "@jupyter-widgets/base",
            "overflow": null,
            "_model_module_version": "1.2.0",
            "_view_count": null,
            "flex_flow": null,
            "width": null,
            "min_width": null,
            "border": null,
            "align_items": null,
            "bottom": null,
            "_model_module": "@jupyter-widgets/base",
            "top": null,
            "grid_column": null,
            "overflow_y": null,
            "overflow_x": null,
            "grid_auto_flow": null,
            "grid_area": null,
            "grid_template_columns": null,
            "flex": null,
            "_model_name": "LayoutModel",
            "justify_items": null,
            "grid_row": null,
            "max_height": null,
            "align_content": null,
            "visibility": null,
            "align_self": null,
            "height": null,
            "min_height": null,
            "padding": null,
            "grid_auto_rows": null,
            "grid_gap": null,
            "max_width": null,
            "order": null,
            "_view_module_version": "1.2.0",
            "grid_template_areas": null,
            "object_position": null,
            "object_fit": null,
            "grid_auto_columns": null,
            "margin": null,
            "display": null,
            "left": null
          }
        },
        "6c22365529f94c43b30c1207e4bbacdf": {
          "model_module": "@jupyter-widgets/controls",
          "model_name": "HBoxModel",
          "model_module_version": "1.5.0",
          "state": {
            "_view_name": "HBoxView",
            "_dom_classes": [],
            "_model_name": "HBoxModel",
            "_view_module": "@jupyter-widgets/controls",
            "_model_module_version": "1.5.0",
            "_view_count": null,
            "_view_module_version": "1.5.0",
            "box_style": "",
            "layout": "IPY_MODEL_da7d7727c76042a48961913e467bcb29",
            "_model_module": "@jupyter-widgets/controls",
            "children": [
              "IPY_MODEL_9379e6e3e18e4a80957bc7ac5e5af7c9",
              "IPY_MODEL_20d806d4846f4545b946087d65b13fbc",
              "IPY_MODEL_aca84e23d7154a22929de94b06a44c28"
            ]
          }
        },
        "da7d7727c76042a48961913e467bcb29": {
          "model_module": "@jupyter-widgets/base",
          "model_name": "LayoutModel",
          "model_module_version": "1.2.0",
          "state": {
            "_view_name": "LayoutView",
            "grid_template_rows": null,
            "right": null,
            "justify_content": null,
            "_view_module": "@jupyter-widgets/base",
            "overflow": null,
            "_model_module_version": "1.2.0",
            "_view_count": null,
            "flex_flow": null,
            "width": null,
            "min_width": null,
            "border": null,
            "align_items": null,
            "bottom": null,
            "_model_module": "@jupyter-widgets/base",
            "top": null,
            "grid_column": null,
            "overflow_y": null,
            "overflow_x": null,
            "grid_auto_flow": null,
            "grid_area": null,
            "grid_template_columns": null,
            "flex": null,
            "_model_name": "LayoutModel",
            "justify_items": null,
            "grid_row": null,
            "max_height": null,
            "align_content": null,
            "visibility": null,
            "align_self": null,
            "height": null,
            "min_height": null,
            "padding": null,
            "grid_auto_rows": null,
            "grid_gap": null,
            "max_width": null,
            "order": null,
            "_view_module_version": "1.2.0",
            "grid_template_areas": null,
            "object_position": null,
            "object_fit": null,
            "grid_auto_columns": null,
            "margin": null,
            "display": null,
            "left": null
          }
        },
        "9379e6e3e18e4a80957bc7ac5e5af7c9": {
          "model_module": "@jupyter-widgets/controls",
          "model_name": "HTMLModel",
          "model_module_version": "1.5.0",
          "state": {
            "_view_name": "HTMLView",
            "style": "IPY_MODEL_4a3ba4bdbd984302bbec8eb3226ce882",
            "_dom_classes": [],
            "description": "",
            "_model_name": "HTMLModel",
            "placeholder": "​",
            "_view_module": "@jupyter-widgets/controls",
            "_model_module_version": "1.5.0",
            "value": "100%",
            "_view_count": null,
            "_view_module_version": "1.5.0",
            "description_tooltip": null,
            "_model_module": "@jupyter-widgets/controls",
            "layout": "IPY_MODEL_d3782d830c874097ba28eb5db011fb13"
          }
        },
        "20d806d4846f4545b946087d65b13fbc": {
          "model_module": "@jupyter-widgets/controls",
          "model_name": "FloatProgressModel",
          "model_module_version": "1.5.0",
          "state": {
            "_view_name": "ProgressView",
            "style": "IPY_MODEL_34bfcf20b70d4ac5b4eb711301b8df71",
            "_dom_classes": [],
            "description": "",
            "_model_name": "FloatProgressModel",
            "bar_style": "success",
            "max": 40,
            "_view_module": "@jupyter-widgets/controls",
            "_model_module_version": "1.5.0",
            "value": 40,
            "_view_count": null,
            "_view_module_version": "1.5.0",
            "orientation": "horizontal",
            "min": 0,
            "description_tooltip": null,
            "_model_module": "@jupyter-widgets/controls",
            "layout": "IPY_MODEL_dd4f219764884f29a78a65c5671fddc3"
          }
        },
        "aca84e23d7154a22929de94b06a44c28": {
          "model_module": "@jupyter-widgets/controls",
          "model_name": "HTMLModel",
          "model_module_version": "1.5.0",
          "state": {
            "_view_name": "HTMLView",
            "style": "IPY_MODEL_4fb3b311f9ec4f4ea056433643534fdd",
            "_dom_classes": [],
            "description": "",
            "_model_name": "HTMLModel",
            "placeholder": "​",
            "_view_module": "@jupyter-widgets/controls",
            "_model_module_version": "1.5.0",
            "value": " 40/40 [00:06&lt;00:00,  6.74it/s]",
            "_view_count": null,
            "_view_module_version": "1.5.0",
            "description_tooltip": null,
            "_model_module": "@jupyter-widgets/controls",
            "layout": "IPY_MODEL_589c83f14309412aa5a1ae0db5333f1a"
          }
        },
        "4a3ba4bdbd984302bbec8eb3226ce882": {
          "model_module": "@jupyter-widgets/controls",
          "model_name": "DescriptionStyleModel",
          "model_module_version": "1.5.0",
          "state": {
            "_view_name": "StyleView",
            "_model_name": "DescriptionStyleModel",
            "description_width": "",
            "_view_module": "@jupyter-widgets/base",
            "_model_module_version": "1.5.0",
            "_view_count": null,
            "_view_module_version": "1.2.0",
            "_model_module": "@jupyter-widgets/controls"
          }
        },
        "d3782d830c874097ba28eb5db011fb13": {
          "model_module": "@jupyter-widgets/base",
          "model_name": "LayoutModel",
          "model_module_version": "1.2.0",
          "state": {
            "_view_name": "LayoutView",
            "grid_template_rows": null,
            "right": null,
            "justify_content": null,
            "_view_module": "@jupyter-widgets/base",
            "overflow": null,
            "_model_module_version": "1.2.0",
            "_view_count": null,
            "flex_flow": null,
            "width": null,
            "min_width": null,
            "border": null,
            "align_items": null,
            "bottom": null,
            "_model_module": "@jupyter-widgets/base",
            "top": null,
            "grid_column": null,
            "overflow_y": null,
            "overflow_x": null,
            "grid_auto_flow": null,
            "grid_area": null,
            "grid_template_columns": null,
            "flex": null,
            "_model_name": "LayoutModel",
            "justify_items": null,
            "grid_row": null,
            "max_height": null,
            "align_content": null,
            "visibility": null,
            "align_self": null,
            "height": null,
            "min_height": null,
            "padding": null,
            "grid_auto_rows": null,
            "grid_gap": null,
            "max_width": null,
            "order": null,
            "_view_module_version": "1.2.0",
            "grid_template_areas": null,
            "object_position": null,
            "object_fit": null,
            "grid_auto_columns": null,
            "margin": null,
            "display": null,
            "left": null
          }
        },
        "34bfcf20b70d4ac5b4eb711301b8df71": {
          "model_module": "@jupyter-widgets/controls",
          "model_name": "ProgressStyleModel",
          "model_module_version": "1.5.0",
          "state": {
            "_view_name": "StyleView",
            "_model_name": "ProgressStyleModel",
            "description_width": "",
            "_view_module": "@jupyter-widgets/base",
            "_model_module_version": "1.5.0",
            "_view_count": null,
            "_view_module_version": "1.2.0",
            "bar_color": null,
            "_model_module": "@jupyter-widgets/controls"
          }
        },
        "dd4f219764884f29a78a65c5671fddc3": {
          "model_module": "@jupyter-widgets/base",
          "model_name": "LayoutModel",
          "model_module_version": "1.2.0",
          "state": {
            "_view_name": "LayoutView",
            "grid_template_rows": null,
            "right": null,
            "justify_content": null,
            "_view_module": "@jupyter-widgets/base",
            "overflow": null,
            "_model_module_version": "1.2.0",
            "_view_count": null,
            "flex_flow": null,
            "width": null,
            "min_width": null,
            "border": null,
            "align_items": null,
            "bottom": null,
            "_model_module": "@jupyter-widgets/base",
            "top": null,
            "grid_column": null,
            "overflow_y": null,
            "overflow_x": null,
            "grid_auto_flow": null,
            "grid_area": null,
            "grid_template_columns": null,
            "flex": null,
            "_model_name": "LayoutModel",
            "justify_items": null,
            "grid_row": null,
            "max_height": null,
            "align_content": null,
            "visibility": null,
            "align_self": null,
            "height": null,
            "min_height": null,
            "padding": null,
            "grid_auto_rows": null,
            "grid_gap": null,
            "max_width": null,
            "order": null,
            "_view_module_version": "1.2.0",
            "grid_template_areas": null,
            "object_position": null,
            "object_fit": null,
            "grid_auto_columns": null,
            "margin": null,
            "display": null,
            "left": null
          }
        },
        "4fb3b311f9ec4f4ea056433643534fdd": {
          "model_module": "@jupyter-widgets/controls",
          "model_name": "DescriptionStyleModel",
          "model_module_version": "1.5.0",
          "state": {
            "_view_name": "StyleView",
            "_model_name": "DescriptionStyleModel",
            "description_width": "",
            "_view_module": "@jupyter-widgets/base",
            "_model_module_version": "1.5.0",
            "_view_count": null,
            "_view_module_version": "1.2.0",
            "_model_module": "@jupyter-widgets/controls"
          }
        },
        "589c83f14309412aa5a1ae0db5333f1a": {
          "model_module": "@jupyter-widgets/base",
          "model_name": "LayoutModel",
          "model_module_version": "1.2.0",
          "state": {
            "_view_name": "LayoutView",
            "grid_template_rows": null,
            "right": null,
            "justify_content": null,
            "_view_module": "@jupyter-widgets/base",
            "overflow": null,
            "_model_module_version": "1.2.0",
            "_view_count": null,
            "flex_flow": null,
            "width": null,
            "min_width": null,
            "border": null,
            "align_items": null,
            "bottom": null,
            "_model_module": "@jupyter-widgets/base",
            "top": null,
            "grid_column": null,
            "overflow_y": null,
            "overflow_x": null,
            "grid_auto_flow": null,
            "grid_area": null,
            "grid_template_columns": null,
            "flex": null,
            "_model_name": "LayoutModel",
            "justify_items": null,
            "grid_row": null,
            "max_height": null,
            "align_content": null,
            "visibility": null,
            "align_self": null,
            "height": null,
            "min_height": null,
            "padding": null,
            "grid_auto_rows": null,
            "grid_gap": null,
            "max_width": null,
            "order": null,
            "_view_module_version": "1.2.0",
            "grid_template_areas": null,
            "object_position": null,
            "object_fit": null,
            "grid_auto_columns": null,
            "margin": null,
            "display": null,
            "left": null
          }
        }
      }
    }
  },
  "cells": [
    {
      "cell_type": "markdown",
      "metadata": {
        "id": "view-in-github",
        "colab_type": "text"
      },
      "source": [
        "<a href=\"https://colab.research.google.com/github/Joyonclear/ResNet/blob/main/06_00_pruning_SEResNet12.ipynb\" target=\"_parent\"><img src=\"https://colab.research.google.com/assets/colab-badge.svg\" alt=\"Open In Colab\"/></a>"
      ]
    },
    {
      "cell_type": "markdown",
      "metadata": {
        "id": "grc-bqbumwId"
      },
      "source": [
        "# Library"
      ]
    },
    {
      "cell_type": "code",
      "metadata": {
        "colab": {
          "base_uri": "https://localhost:8080/"
        },
        "id": "8jxGjpNB8_VJ",
        "outputId": "0b18bd3f-6c1e-4e0e-8e5c-b2992f23d2b7"
      },
      "source": [
        "import torch\n",
        "import torch.nn as nn\n",
        "import torch.nn.functional as F\n",
        "import os\n",
        "from tqdm.notebook import tqdm\n",
        "import time\n",
        "import numpy as np\n",
        "!pip install torchinfo\n",
        "from torchinfo import summary"
      ],
      "execution_count": 4,
      "outputs": [
        {
          "output_type": "stream",
          "name": "stdout",
          "text": [
            "Collecting torchinfo\n",
            "  Downloading torchinfo-1.5.3-py3-none-any.whl (19 kB)\n",
            "Installing collected packages: torchinfo\n",
            "Successfully installed torchinfo-1.5.3\n"
          ]
        }
      ]
    },
    {
      "cell_type": "markdown",
      "metadata": {
        "id": "CCRtZPFlhhgw"
      },
      "source": [
        "# ResNet Basic Block Design"
      ]
    },
    {
      "cell_type": "code",
      "metadata": {
        "id": "nYLGwlX59IyU"
      },
      "source": [
        "# short-cut 기반 네트워크를 사용하기 위해 만드는 sub layer module\n",
        "# https://github.com/kuangliu/pytorch-cifar/blob/master/models/resnet.py 코드 참고해서 이해하면 좋음\n",
        "\n",
        "class BasicBlock(nn.Module):\n",
        "    # expansion = 1 -> bottleneck layer를 사용하지 않겠다.\n",
        "    expansion = 1\n",
        "    \n",
        "    def __init__(self, in_planes, planes, stride=1):\n",
        "        super(BasicBlock, self).__init__()\n",
        "        # 보통 kernel=7, padding=3 이지만 CIFAR-10은 32*32의 작은 이미지라서 이러면 처음에 손실이 너무 커서 오히려 안좋음\n",
        "        \n",
        "        self.conv1 = nn.Conv2d(in_planes, planes, kernel_size=3, stride=stride, padding=1, bias=False)\n",
        "        self.bn1 = nn.BatchNorm2d(planes)\n",
        "        self.conv2 = nn.Conv2d(planes, planes, kernel_size=3, stride=1, padding=1, bias=False)\n",
        "        self.bn2 = nn.BatchNorm2d(planes)\n",
        "\n",
        "        self.linear1 = nn.Linear(planes, planes//4)\n",
        "        self.linear2 = nn.Linear(planes//4, planes)\n",
        "        \n",
        "    # stride 1 아니거나 입력과 출력이 다르면 shortcut이라는 모델을 하나 만듦\n",
        "    # kernel=1 -> 동일한 size의 출력으로 convolution 진행 및 정규화\n",
        "        self.shortcut = nn.Sequential() \n",
        "        if stride != 1 or in_planes != self.expansion*planes:  \n",
        "            self.shortcut = nn.Sequential(nn.Conv2d(in_planes, self.expansion*planes, kernel_size=1, stride=stride, bias=False), \n",
        "                                            nn.BatchNorm2d(self.expansion*planes)) \n",
        "\n",
        "    # ResNet Basic Block\n",
        "    def forward(self, x):\n",
        "        out = F.relu(self.bn1(self.conv1(x)))\n",
        "        out = self.bn2(self.conv2(out))\n",
        "        \n",
        "        squeeze = out.mean(dim=(-2, -1))    # Global Average Pooling\n",
        "        excitation = self.linear1(squeeze)\n",
        "        excitation = F.relu(excitation)\n",
        "        excitation = self.linear2(excitation)\n",
        "        excitation = F.sigmoid(excitation)\n",
        "        excitation = excitation.unsqueeze(dim=2).unsqueeze(dim=3)\n",
        "        scale = out * excitation\n",
        "        scale += self.shortcut(x)\n",
        "        scale = F.relu(scale)\n",
        "        return scale\n",
        "        '''\n",
        "        out += self.shortcut(x)\n",
        "        out = F.relu(out)\n",
        "        return out\n",
        "        '''"
      ],
      "execution_count": 5,
      "outputs": []
    },
    {
      "cell_type": "markdown",
      "metadata": {
        "id": "31WpmqaQiCBE"
      },
      "source": [
        "# ResNet Architecture Design"
      ]
    },
    {
      "cell_type": "code",
      "metadata": {
        "id": "30zFwi53g29D"
      },
      "source": [
        "# 만들어진 BasicBlock 을 기반으로 network design\n",
        "# nn.Conv2d의 갯수가 12개가 되도록 하면 됨.(단 shortcut 제외 shortcut의 경우에는 conv layer 개수 셀 때 제외됨.(linear transform으로 취급하는 경우가 많음))\n",
        "# https://github.com/kuangliu/pytorch-cifar/blob/master/models/resnet.py 코드 참고해서 이해하면 좋음\n",
        "\n",
        "class ResNet(nn.Module):\n",
        "    def __init__(self, num_classes=10):\n",
        "        super(ResNet, self).__init__()\n",
        "\n",
        "    def __init__(self, block, num_blocks, num_classes=10):\n",
        "        super(ResNet, self).__init__()\n",
        "        self.in_planes = 64\n",
        "\n",
        "        self.conv1 = nn.Conv2d(3, 64, kernel_size=3, stride=1, padding=1, bias=False)\n",
        "        self.bn1 = nn.BatchNorm2d(64)\n",
        "\n",
        "        self.layer1 = self._make_layer(block, 64, num_blocks[0], stride=1)\n",
        "        self.layer2 = self._make_layer(block, 128, num_blocks[1], stride=2)\n",
        "        self.layer3 = self._make_layer(block, 192, num_blocks[2], stride=2)\n",
        "        self.layer4 = self._make_layer(block, 256, num_blocks[3], stride=2)\n",
        "        self.linear = nn.Linear(256*block.expansion, num_classes)\n",
        "\n",
        "    def _make_layer(self, block, planes, num_blocks, stride):\n",
        "        strides = [stride] + [1]*(num_blocks-1)\n",
        "        layers = []\n",
        "        for stride in strides:\n",
        "            layers.append(block(self.in_planes, planes, stride))\n",
        "            self.in_planes = planes * block.expansion\n",
        "        return nn.Sequential(*layers)\n",
        "\n",
        "    def forward(self, x):\n",
        "        out = F.relu(self.bn1(self.conv1(x)))\n",
        "\n",
        "        out = self.layer1(out)\n",
        "        out = self.layer2(out)\n",
        "        out = self.layer3(out)\n",
        "        out = self.layer4(out)\n",
        "        out = F.avg_pool2d(out, 4)\n",
        "        out = out.view(out.size(0), -1)\n",
        "        out = self.linear(out)\n",
        "        return out"
      ],
      "execution_count": 6,
      "outputs": []
    },
    {
      "cell_type": "markdown",
      "metadata": {
        "id": "dO3OW8HXkU9f"
      },
      "source": [
        "# ResNet12 Design"
      ]
    },
    {
      "cell_type": "code",
      "metadata": {
        "colab": {
          "base_uri": "https://localhost:8080/"
        },
        "id": "5OCmVxZmLqWn",
        "outputId": "bd65f652-b922-4b66-9e60-e3e4e169bb92"
      },
      "source": [
        "def ResNet12():\n",
        "    return ResNet(BasicBlock, [1, 1, 1, 2])\n",
        "\n",
        "net = ResNet12()\n",
        "input = torch.randn(10, 3, 32, 32)\n",
        "# torch summary를 통한 conv net, output shape 등에 대한 확인\n",
        "\n",
        "summary(net, input_size=input.shape)\n"
      ],
      "execution_count": 7,
      "outputs": [
        {
          "output_type": "stream",
          "name": "stderr",
          "text": [
            "/usr/local/lib/python3.7/dist-packages/torch/nn/functional.py:1806: UserWarning: nn.functional.sigmoid is deprecated. Use torch.sigmoid instead.\n",
            "  warnings.warn(\"nn.functional.sigmoid is deprecated. Use torch.sigmoid instead.\")\n"
          ]
        },
        {
          "output_type": "execute_result",
          "data": {
            "text/plain": [
              "==========================================================================================\n",
              "Layer (type:depth-idx)                   Output Shape              Param #\n",
              "==========================================================================================\n",
              "ResNet                                   --                        --\n",
              "├─Conv2d: 1-1                            [10, 64, 32, 32]          1,728\n",
              "├─BatchNorm2d: 1-2                       [10, 64, 32, 32]          128\n",
              "├─Sequential: 1-3                        [10, 64, 32, 32]          --\n",
              "│    └─BasicBlock: 2-1                   [10, 64, 32, 32]          --\n",
              "│    │    └─Conv2d: 3-1                  [10, 64, 32, 32]          36,864\n",
              "│    │    └─BatchNorm2d: 3-2             [10, 64, 32, 32]          128\n",
              "│    │    └─Conv2d: 3-3                  [10, 64, 32, 32]          36,864\n",
              "│    │    └─BatchNorm2d: 3-4             [10, 64, 32, 32]          128\n",
              "│    │    └─Linear: 3-5                  [10, 16]                  1,040\n",
              "│    │    └─Linear: 3-6                  [10, 64]                  1,088\n",
              "│    │    └─Sequential: 3-7              [10, 64, 32, 32]          --\n",
              "├─Sequential: 1-4                        [10, 128, 16, 16]         --\n",
              "│    └─BasicBlock: 2-2                   [10, 128, 16, 16]         --\n",
              "│    │    └─Conv2d: 3-8                  [10, 128, 16, 16]         73,728\n",
              "│    │    └─BatchNorm2d: 3-9             [10, 128, 16, 16]         256\n",
              "│    │    └─Conv2d: 3-10                 [10, 128, 16, 16]         147,456\n",
              "│    │    └─BatchNorm2d: 3-11            [10, 128, 16, 16]         256\n",
              "│    │    └─Linear: 3-12                 [10, 32]                  4,128\n",
              "│    │    └─Linear: 3-13                 [10, 128]                 4,224\n",
              "│    │    └─Sequential: 3-14             [10, 128, 16, 16]         8,448\n",
              "├─Sequential: 1-5                        [10, 192, 8, 8]           --\n",
              "│    └─BasicBlock: 2-3                   [10, 192, 8, 8]           --\n",
              "│    │    └─Conv2d: 3-15                 [10, 192, 8, 8]           221,184\n",
              "│    │    └─BatchNorm2d: 3-16            [10, 192, 8, 8]           384\n",
              "│    │    └─Conv2d: 3-17                 [10, 192, 8, 8]           331,776\n",
              "│    │    └─BatchNorm2d: 3-18            [10, 192, 8, 8]           384\n",
              "│    │    └─Linear: 3-19                 [10, 48]                  9,264\n",
              "│    │    └─Linear: 3-20                 [10, 192]                 9,408\n",
              "│    │    └─Sequential: 3-21             [10, 192, 8, 8]           24,960\n",
              "├─Sequential: 1-6                        [10, 256, 4, 4]           --\n",
              "│    └─BasicBlock: 2-4                   [10, 256, 4, 4]           --\n",
              "│    │    └─Conv2d: 3-22                 [10, 256, 4, 4]           442,368\n",
              "│    │    └─BatchNorm2d: 3-23            [10, 256, 4, 4]           512\n",
              "│    │    └─Conv2d: 3-24                 [10, 256, 4, 4]           589,824\n",
              "│    │    └─BatchNorm2d: 3-25            [10, 256, 4, 4]           512\n",
              "│    │    └─Linear: 3-26                 [10, 64]                  16,448\n",
              "│    │    └─Linear: 3-27                 [10, 256]                 16,640\n",
              "│    │    └─Sequential: 3-28             [10, 256, 4, 4]           49,664\n",
              "│    └─BasicBlock: 2-5                   [10, 256, 4, 4]           --\n",
              "│    │    └─Conv2d: 3-29                 [10, 256, 4, 4]           589,824\n",
              "│    │    └─BatchNorm2d: 3-30            [10, 256, 4, 4]           512\n",
              "│    │    └─Conv2d: 3-31                 [10, 256, 4, 4]           589,824\n",
              "│    │    └─BatchNorm2d: 3-32            [10, 256, 4, 4]           512\n",
              "│    │    └─Linear: 3-33                 [10, 64]                  16,448\n",
              "│    │    └─Linear: 3-34                 [10, 256]                 16,640\n",
              "│    │    └─Sequential: 3-35             [10, 256, 4, 4]           --\n",
              "├─Linear: 1-7                            [10, 10]                  2,570\n",
              "==========================================================================================\n",
              "Total params: 3,246,122\n",
              "Trainable params: 3,246,122\n",
              "Non-trainable params: 0\n",
              "Total mult-adds (G): 2.09\n",
              "==========================================================================================\n",
              "Input size (MB): 0.12\n",
              "Forward/backward pass size (MB): 56.45\n",
              "Params size (MB): 12.98\n",
              "Estimated Total Size (MB): 69.56\n",
              "=========================================================================================="
            ]
          },
          "metadata": {},
          "execution_count": 7
        }
      ]
    },
    {
      "cell_type": "markdown",
      "metadata": {
        "id": "612VTm8MGcIg"
      },
      "source": [
        "# DataSet Loading"
      ]
    },
    {
      "cell_type": "code",
      "metadata": {
        "id": "kUvtY4zPBb4e",
        "colab": {
          "base_uri": "https://localhost:8080/",
          "height": 0,
          "referenced_widgets": [
            "2814973ffa8f4fd7b54009a23d5ff6ae",
            "96d01391e3cb41838f509e6322b0a649",
            "dc061c00b3a44cdabef94ffa9e1c0759",
            "b404c864aa80461da34e5e21f37d2000",
            "ff8bb779b044477b915910e7e54935cf",
            "5d0ea130e9c44cf9b1d2de0509a78f30",
            "046a2cf262004f46861b2856c70b31bc",
            "6e8e4f53f2e744ca9e4d857af87b67a1",
            "6df0f0554fde45aba162a8736bb518a3",
            "87b27af3d6bb49abb39eeeb132a1cb8e",
            "2217476ffe68476a8488173bba719a9c",
            "5ae020a19d9843fca7558ccf8f18d87e",
            "1fd370b3b9324ab3a228db4c457b60c0",
            "2fda45af5f264fb48bf4fe9a009762d7",
            "aa8f0ff095044f6da157b88211764dce",
            "bc952b57969241f5b6bc73937fc9b784",
            "063ba2a7e99342f2b859d3c89d9af7c9",
            "52ccfabde0554b12a9c4ccfdfd7e4c01",
            "ab690c3f568d4573944129d1c9f029c1",
            "28fe217bf9294cd391593932a21fe47b",
            "647f5ea4399346ed9d53742820f250ed",
            "e86c78e9a643457f98515053ae2a74b0"
          ]
        },
        "outputId": "96ac2419-db5e-4bcb-fa6e-ba281ed3cb5d"
      },
      "source": [
        "#cifar10 의 데이터의 경우 torchvision.datasets 를 사용해 \n",
        "#데이터를 불러오고 해당하는 데이터를 torch 에서 사용가능하게 dataloader 에 넣어주는 작업을 거칠 예정\n",
        "\n",
        "from torch.utils.data import Dataset, DataLoader\n",
        "from torchvision import datasets, transforms\n",
        "\n",
        "transform = transforms.Compose(\n",
        "                                [\n",
        "                                  transforms.RandomCrop(32, padding=4),\n",
        "                                  transforms.RandomHorizontalFlip(),\n",
        "                                  transforms.ToTensor(),\n",
        "                                  transforms.Normalize((0.4914, 0.4822, 0.4465), (0.2023, 0.1994, 0.2010)),                                \n",
        "                                 ]\n",
        "                               )\n",
        "\n",
        "\n",
        "# train_data, test_data 를 torchvision에서 제공해주는 datasets.CIFAR10 으로 읽어온다.\n",
        "# 읽어온 결과는 dataset으로 저장되며 이 dataset은 dataloader를 거쳐서 학습에 사용된다.\n",
        "\n",
        "train_dataset = datasets.CIFAR10(root = \"./data\", train=True, transform=transform, download=True)\n",
        "test_dataset = datasets.CIFAR10(root = \"./data\", train=False, transform=transform, download=True)\n",
        "\n",
        "# 데이터의 총 개수 해당 데이터에선 50000개의 데이터가 (img, label)의 tuple 형식으로 저장 되어있다.\n",
        "print(\"train_dataset의 개수 : \", len(train_dataset))\n",
        "print(\"test_dataset의 개수 : \", len(test_dataset))\n",
        "\n",
        "batch_size = 256\n",
        "\n",
        "train_loader = DataLoader(train_dataset, batch_size=batch_size,\n",
        "                                          shuffle=True, num_workers=2)\n",
        "test_loader = DataLoader(test_dataset, batch_size=batch_size,\n",
        "                         shuffle=False, num_workers=2)\n",
        "\n",
        "# data를 배치 단위로 불러오는 법 test\n",
        "# for 문이 loop를 다 돌면 1 epoch가 끝나는 형태\n",
        "# tqdm library를 사용해 현재 어느 iteration까지 진행되었는지 notebook 상에서 prograss bar 로 visualize가 가능\n",
        "for i, (data, target) in enumerate(tqdm(train_loader)):\n",
        "    if i == 0 :\n",
        "        print(\"batch data shape : \", data.shape)\n",
        "        print(\"batch data label : \", target)\n"
      ],
      "execution_count": 8,
      "outputs": [
        {
          "output_type": "stream",
          "name": "stdout",
          "text": [
            "Downloading https://www.cs.toronto.edu/~kriz/cifar-10-python.tar.gz to ./data/cifar-10-python.tar.gz\n"
          ]
        },
        {
          "output_type": "display_data",
          "data": {
            "application/vnd.jupyter.widget-view+json": {
              "model_id": "2814973ffa8f4fd7b54009a23d5ff6ae",
              "version_minor": 0,
              "version_major": 2
            },
            "text/plain": [
              "  0%|          | 0/170498071 [00:00<?, ?it/s]"
            ]
          },
          "metadata": {}
        },
        {
          "output_type": "stream",
          "name": "stdout",
          "text": [
            "Extracting ./data/cifar-10-python.tar.gz to ./data\n",
            "Files already downloaded and verified\n",
            "train_dataset의 개수 :  50000\n",
            "test_dataset의 개수 :  10000\n"
          ]
        },
        {
          "output_type": "display_data",
          "data": {
            "application/vnd.jupyter.widget-view+json": {
              "model_id": "5ae020a19d9843fca7558ccf8f18d87e",
              "version_minor": 0,
              "version_major": 2
            },
            "text/plain": [
              "  0%|          | 0/196 [00:00<?, ?it/s]"
            ]
          },
          "metadata": {}
        },
        {
          "output_type": "stream",
          "name": "stdout",
          "text": [
            "batch data shape :  torch.Size([256, 3, 32, 32])\n",
            "batch data label :  tensor([1, 1, 9, 5, 5, 7, 0, 1, 4, 0, 6, 0, 1, 9, 4, 7, 6, 3, 8, 7, 4, 1, 2, 5,\n",
            "        6, 9, 0, 2, 0, 9, 7, 2, 0, 5, 6, 4, 7, 5, 6, 6, 6, 3, 7, 1, 2, 3, 1, 6,\n",
            "        5, 4, 0, 6, 3, 7, 8, 7, 3, 0, 5, 0, 9, 4, 1, 8, 2, 4, 8, 2, 8, 5, 1, 4,\n",
            "        0, 6, 4, 6, 3, 3, 9, 9, 6, 3, 1, 1, 6, 6, 3, 9, 2, 8, 7, 5, 1, 3, 5, 8,\n",
            "        6, 1, 0, 5, 0, 9, 1, 7, 2, 1, 3, 3, 1, 8, 1, 2, 0, 8, 5, 1, 9, 9, 4, 5,\n",
            "        6, 2, 8, 8, 0, 3, 7, 4, 7, 0, 2, 7, 2, 6, 3, 6, 8, 9, 0, 3, 0, 4, 2, 9,\n",
            "        2, 3, 9, 4, 8, 3, 7, 7, 7, 6, 2, 9, 1, 6, 8, 2, 9, 3, 9, 7, 6, 1, 3, 8,\n",
            "        2, 8, 2, 7, 3, 8, 5, 0, 5, 5, 2, 1, 7, 8, 1, 9, 7, 9, 1, 9, 8, 0, 3, 9,\n",
            "        7, 3, 2, 0, 0, 6, 3, 2, 1, 8, 5, 0, 7, 4, 2, 5, 7, 1, 6, 0, 3, 7, 8, 0,\n",
            "        7, 4, 2, 9, 8, 3, 2, 0, 3, 7, 1, 5, 2, 4, 8, 5, 4, 4, 2, 3, 8, 6, 3, 4,\n",
            "        4, 1, 8, 5, 3, 2, 0, 7, 4, 8, 6, 6, 2, 5, 8, 6])\n"
          ]
        }
      ]
    },
    {
      "cell_type": "markdown",
      "metadata": {
        "id": "6i4QGn8GlsT8"
      },
      "source": [
        "# Accuracy Function Define"
      ]
    },
    {
      "cell_type": "code",
      "metadata": {
        "id": "9JT1IRh9l_iF"
      },
      "source": [
        "# batch_size의 predict와 label을 받으면 그 결과를 accuracy로 출력한다.\n",
        "def accuracy(predict, label, printable=False):\n",
        "  # 해당 연산이 연산의 계산그래프에 들어가면 안되기에 gradient 계산에서 제외한다.\n",
        "  with torch.no_grad():\n",
        "    # 각 row마다 predict의 추측값이 가장 높은 값의 index를 가지고 온다.(argmax 사용)\n",
        "    predicted = torch.argmax(predict.data, 1)\n",
        "    # 해당하는 predicted 값이 labels와 같은 값인지를 확인한다.\n",
        "    correct = (predicted == label).sum().item()\n",
        "    temp_acc = (100 * correct / predict.shape[0])\n",
        "    if printable:\n",
        "      print(f'Accuracy of the network on the test images (batch_size : {predict.shape[0]}): {temp_acc}%')\n",
        "    \n",
        "    return temp_acc"
      ],
      "execution_count": 9,
      "outputs": []
    },
    {
      "cell_type": "markdown",
      "metadata": {
        "id": "Pzp3OVaulzAf"
      },
      "source": [
        "# Validation Function Define"
      ]
    },
    {
      "cell_type": "code",
      "metadata": {
        "id": "3DZt1Gcnoiov"
      },
      "source": [
        "# validate function\n",
        "def validate(net, CEloss , test_loader):\n",
        "  # test data에 따라 검색하기\n",
        "  start_time = time.time()\n",
        "  \n",
        "  total_acc = []\n",
        "  total_loss = []\n",
        "\n",
        "  device = \"cuda\" if torch.cuda.is_available() else \"cpu\"\n",
        "  print(\"device : \", device)\n",
        "  assert device == \"cuda\"\n",
        "  # network를 device type 으로 변경\n",
        "  net.to(device)\n",
        "\n",
        "  for data, label in tqdm(test_loader):\n",
        "    # test data를 돌릴 때에는 gradinet 계산을 하면 안되기에 no_grad로 묶어준다.\n",
        "    with torch.no_grad():\n",
        "      # 이 때 data와 label 또한 GPU로 넘겨주어야 한다.\n",
        "      data = data.to(device)\n",
        "      label = label.to(device)\n",
        "          \n",
        "      # mobilenetv2 모델에 data를 넣어 추측(predict) 한다.\n",
        "      predict = net(data).to(device)\n",
        "      \n",
        "      # 학습 중 batch_size의 accuracy가 보고싶다면 printable=True 를 설정하세요.\n",
        "      temp_acc = accuracy(predict, label)\n",
        "      total_acc.append(temp_acc)\n",
        "      \n",
        "      # loss의 경우 추측값과 정답값을 비교한다.\n",
        "      loss = CEloss(predict, label)\n",
        "      total_loss.append(loss)\n",
        "      \n",
        "      # optimizer를 step 하는 것을 통해 optimizer에 선언한 parameter들을 학습시킨다.\n",
        "  print(\"\\n\")\n",
        "  print(f\"Test loss : {np.array(total_loss).sum() / len(total_loss)}\")\n",
        "  print(f\"Test accuracy : {np.array(total_acc).sum() / len(total_acc)}\")\n",
        "  print(f\"1 epoch time : {time.time() -start_time} (s)\")\n",
        "  print(\"\\n\")  \n"
      ],
      "execution_count": 10,
      "outputs": []
    },
    {
      "cell_type": "markdown",
      "metadata": {
        "id": "uY9QV99PKw5N"
      },
      "source": [
        "# Trained Network loading"
      ]
    },
    {
      "cell_type": "code",
      "metadata": {
        "id": "g1NZt0Eh9qIR",
        "colab": {
          "base_uri": "https://localhost:8080/"
        },
        "outputId": "b27b9340-a0b3-4834-a7b9-10f03610a90b"
      },
      "source": [
        "from google.colab import drive\n",
        "\n",
        "drive.mount(\"/content/drive\")\n",
        "!ls /content/drive/MyDrive/Colab_Notebooks/pruning_result/\n",
        "drive_path = \"/content/drive/MyDrive/Colab_Notebooks/pruning_result/\"\n",
        "net.load_state_dict(torch.load(drive_path+\"06_SEResNet12.pth\"))"
      ],
      "execution_count": 1,
      "outputs": [
        {
          "output_type": "stream",
          "name": "stdout",
          "text": [
            "Mounted at /content/drive\n",
            "04_SEResNet12.pth  06_SEResNet12.pth  model_best02.pth\tmodel_best.pth\n"
          ]
        }
      ]
    },
    {
      "cell_type": "markdown",
      "metadata": {
        "id": "sqGoQk64RKcj"
      },
      "source": [
        "# Validation Start"
      ]
    },
    {
      "cell_type": "code",
      "metadata": {
        "colab": {
          "base_uri": "https://localhost:8080/",
          "height": 259,
          "referenced_widgets": [
            "6c22365529f94c43b30c1207e4bbacdf",
            "da7d7727c76042a48961913e467bcb29",
            "9379e6e3e18e4a80957bc7ac5e5af7c9",
            "20d806d4846f4545b946087d65b13fbc",
            "aca84e23d7154a22929de94b06a44c28",
            "4a3ba4bdbd984302bbec8eb3226ce882",
            "d3782d830c874097ba28eb5db011fb13",
            "34bfcf20b70d4ac5b4eb711301b8df71",
            "dd4f219764884f29a78a65c5671fddc3",
            "4fb3b311f9ec4f4ea056433643534fdd",
            "589c83f14309412aa5a1ae0db5333f1a"
          ]
        },
        "id": "vOtGmDjoPbVd",
        "outputId": "23dfc642-7976-40a9-be4c-e34771fa260c"
      },
      "source": [
        "validate(net, CEloss, test_loader)"
      ],
      "execution_count": 18,
      "outputs": [
        {
          "output_type": "stream",
          "name": "stdout",
          "text": [
            "device :  cuda\n"
          ]
        },
        {
          "output_type": "display_data",
          "data": {
            "application/vnd.jupyter.widget-view+json": {
              "model_id": "6c22365529f94c43b30c1207e4bbacdf",
              "version_minor": 0,
              "version_major": 2
            },
            "text/plain": [
              "  0%|          | 0/40 [00:00<?, ?it/s]"
            ]
          },
          "metadata": {}
        },
        {
          "output_type": "stream",
          "name": "stderr",
          "text": [
            "/usr/local/lib/python3.7/dist-packages/torch/nn/functional.py:1806: UserWarning: nn.functional.sigmoid is deprecated. Use torch.sigmoid instead.\n",
            "  warnings.warn(\"nn.functional.sigmoid is deprecated. Use torch.sigmoid instead.\")\n"
          ]
        },
        {
          "output_type": "stream",
          "name": "stdout",
          "text": [
            "\n",
            "\n",
            "Test loss : 0.33199411630630493\n",
            "Test accuracy : 90.810546875\n",
            "1 epoch time : 6.410188674926758 (s)\n",
            "\n",
            "\n"
          ]
        }
      ]
    },
    {
      "cell_type": "code",
      "metadata": {
        "id": "rc29ufDYQno6"
      },
      "source": [
        ""
      ],
      "execution_count": null,
      "outputs": []
    },
    {
      "cell_type": "markdown",
      "metadata": {
        "id": "j_R2OzXcR1Ks"
      },
      "source": [
        "# Pruning Function Define"
      ]
    },
    {
      "cell_type": "code",
      "metadata": {
        "colab": {
          "base_uri": "https://localhost:8080/",
          "height": 179
        },
        "id": "qsdHrIOkR7lr",
        "outputId": "001ee3d7-4f9c-4624-d697-0067afb9f4e4"
      },
      "source": [
        "net"
      ],
      "execution_count": 1,
      "outputs": [
        {
          "output_type": "error",
          "ename": "NameError",
          "evalue": "ignored",
          "traceback": [
            "\u001b[0;31m---------------------------------------------------------------------------\u001b[0m",
            "\u001b[0;31mNameError\u001b[0m                                 Traceback (most recent call last)",
            "\u001b[0;32m<ipython-input-1-d3e61c39d23b>\u001b[0m in \u001b[0;36m<module>\u001b[0;34m()\u001b[0m\n\u001b[0;32m----> 1\u001b[0;31m \u001b[0mnet\u001b[0m\u001b[0;34m\u001b[0m\u001b[0;34m\u001b[0m\u001b[0m\n\u001b[0m",
            "\u001b[0;31mNameError\u001b[0m: name 'net' is not defined"
          ]
        }
      ]
    },
    {
      "cell_type": "code",
      "metadata": {
        "id": "7izaXCv5UF77"
      },
      "source": [
        ""
      ],
      "execution_count": null,
      "outputs": []
    }
  ]
}