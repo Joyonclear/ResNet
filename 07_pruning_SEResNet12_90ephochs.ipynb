{
 "cells": [
  {
   "cell_type": "markdown",
   "metadata": {
    "colab_type": "text",
    "id": "view-in-github"
   },
   "source": [
    "<a href=\"https://colab.research.google.com/github/Joyonclear/ResNet/blob/main/06_00_pruning_SEResNet12.ipynb\" target=\"_parent\"><img src=\"https://colab.research.google.com/assets/colab-badge.svg\" alt=\"Open In Colab\"/></a>"
   ]
  },
  {
   "cell_type": "markdown",
   "metadata": {
    "id": "grc-bqbumwId"
   },
   "source": [
    "# Library"
   ]
  },
  {
   "cell_type": "code",
   "execution_count": 1,
   "metadata": {
    "colab": {
     "base_uri": "https://localhost:8080/"
    },
    "id": "8jxGjpNB8_VJ",
    "outputId": "0b18bd3f-6c1e-4e0e-8e5c-b2992f23d2b7"
   },
   "outputs": [
    {
     "name": "stdout",
     "output_type": "stream",
     "text": [
      "Defaulting to user installation because normal site-packages is not writeable\n",
      "Requirement already satisfied: torchinfo in /home/huiseong/.local/lib/python3.8/site-packages (1.5.3)\n"
     ]
    }
   ],
   "source": [
    "import torch\n",
    "import torch.nn as nn\n",
    "import torch.nn.functional as F\n",
    "import os\n",
    "from tqdm.notebook import tqdm\n",
    "import time\n",
    "import numpy as np\n",
    "!pip install torchinfo\n",
    "from torchinfo import summary\n",
    "import torch.nn.utils.prune as prune\n",
    "import copy\n",
    "import math"
   ]
  },
  {
   "cell_type": "markdown",
   "metadata": {
    "id": "CCRtZPFlhhgw"
   },
   "source": [
    "# ResNet Basic Block Design"
   ]
  },
  {
   "cell_type": "code",
   "execution_count": 2,
   "metadata": {
    "id": "nYLGwlX59IyU"
   },
   "outputs": [],
   "source": [
    "# short-cut 기반 네트워크를 사용하기 위해 만드는 sub layer module\n",
    "# https://github.com/kuangliu/pytorch-cifar/blob/master/models/resnet.py 코드 참고해서 이해하면 좋음\n",
    "\n",
    "class BasicBlock(nn.Module):\n",
    "    # expansion = 1 -> bottleneck layer를 사용하지 않겠다.\n",
    "    expansion = 1\n",
    "    \n",
    "    def __init__(self, in_planes, planes, stride=1):\n",
    "        super(BasicBlock, self).__init__()\n",
    "        # 보통 kernel=7, padding=3 이지만 CIFAR-10은 32*32의 작은 이미지라서 이러면 처음에 손실이 너무 커서 오히려 안좋음\n",
    "        \n",
    "        self.conv1 = nn.Conv2d(in_planes, planes, kernel_size=3, stride=stride, padding=1, bias=False)\n",
    "        self.bn1 = nn.BatchNorm2d(planes)\n",
    "        self.conv2 = nn.Conv2d(planes, planes, kernel_size=3, stride=1, padding=1, bias=False)\n",
    "        self.bn2 = nn.BatchNorm2d(planes)\n",
    "\n",
    "        self.linear1 = nn.Linear(planes, planes//4)\n",
    "        self.linear2 = nn.Linear(planes//4, planes)\n",
    "        \n",
    "    # stride 1 아니거나 입력과 출력이 다르면 shortcut이라는 모델을 하나 만듦\n",
    "    # kernel=1 -> 동일한 size의 출력으로 convolution 진행 및 정규화\n",
    "        self.shortcut = nn.Sequential() \n",
    "        if stride != 1 or in_planes != self.expansion*planes:  \n",
    "            self.shortcut = nn.Sequential(nn.Conv2d(in_planes, self.expansion*planes, kernel_size=1, stride=stride, bias=False), \n",
    "                                            nn.BatchNorm2d(self.expansion*planes)) \n",
    "\n",
    "    # ResNet Basic Block\n",
    "    def forward(self, x):\n",
    "        out = F.relu(self.bn1(self.conv1(x)))\n",
    "        out = self.bn2(self.conv2(out))\n",
    "        \n",
    "        squeeze = out.mean(dim=(-2, -1))    # Global Average Pooling\n",
    "        excitation = self.linear1(squeeze)\n",
    "        excitation = F.relu(excitation)\n",
    "        excitation = self.linear2(excitation)\n",
    "        excitation = torch.sigmoid(excitation)\n",
    "        excitation = excitation.unsqueeze(dim=2).unsqueeze(dim=3)\n",
    "        scale = out * excitation\n",
    "        scale += self.shortcut(x)\n",
    "        scale = F.relu(scale)\n",
    "        return scale\n",
    "        '''\n",
    "        out += self.shortcut(x)\n",
    "        out = F.relu(out)\n",
    "        return out\n",
    "        '''"
   ]
  },
  {
   "cell_type": "markdown",
   "metadata": {
    "id": "31WpmqaQiCBE"
   },
   "source": [
    "# ResNet Architecture Design"
   ]
  },
  {
   "cell_type": "code",
   "execution_count": 3,
   "metadata": {
    "id": "30zFwi53g29D"
   },
   "outputs": [],
   "source": [
    "# 만들어진 BasicBlock 을 기반으로 network design\n",
    "# nn.Conv2d의 갯수가 12개가 되도록 하면 됨.(단 shortcut 제외 shortcut의 경우에는 conv layer 개수 셀 때 제외됨.(linear transform으로 취급하는 경우가 많음))\n",
    "# https://github.com/kuangliu/pytorch-cifar/blob/master/models/resnet.py 코드 참고해서 이해하면 좋음\n",
    "\n",
    "class ResNet(nn.Module):\n",
    "    def __init__(self, num_classes=10):\n",
    "        super(ResNet, self).__init__()\n",
    "\n",
    "    def __init__(self, block, num_blocks, num_classes=10):\n",
    "        super(ResNet, self).__init__()\n",
    "        self.in_planes = 64\n",
    "\n",
    "        self.conv1 = nn.Conv2d(3, 64, kernel_size=3, stride=1, padding=1, bias=False)\n",
    "        self.bn1 = nn.BatchNorm2d(64)\n",
    "\n",
    "        self.layer1 = self._make_layer(block, 64, num_blocks[0], stride=1)\n",
    "        self.layer2 = self._make_layer(block, 128, num_blocks[1], stride=2)\n",
    "        self.layer3 = self._make_layer(block, 192, num_blocks[2], stride=2)\n",
    "        self.layer4 = self._make_layer(block, 256, num_blocks[3], stride=2)\n",
    "        self.linear = nn.Linear(256*block.expansion, num_classes)\n",
    "\n",
    "    def _make_layer(self, block, planes, num_blocks, stride):\n",
    "        strides = [stride] + [1]*(num_blocks-1)\n",
    "        layers = []\n",
    "        for stride in strides:\n",
    "            layers.append(block(self.in_planes, planes, stride))\n",
    "            self.in_planes = planes * block.expansion\n",
    "        return nn.Sequential(*layers)\n",
    "\n",
    "    def forward(self, x):\n",
    "        out = F.relu(self.bn1(self.conv1(x)))\n",
    "\n",
    "        out = self.layer1(out)\n",
    "        out = self.layer2(out)\n",
    "        out = self.layer3(out)\n",
    "        out = self.layer4(out)\n",
    "        out = F.avg_pool2d(out, 4)\n",
    "        out = out.view(out.size(0), -1)\n",
    "        out = self.linear(out)\n",
    "        return out"
   ]
  },
  {
   "cell_type": "markdown",
   "metadata": {
    "id": "dO3OW8HXkU9f"
   },
   "source": [
    "# ResNet12 Design"
   ]
  },
  {
   "cell_type": "code",
   "execution_count": 4,
   "metadata": {
    "colab": {
     "base_uri": "https://localhost:8080/"
    },
    "id": "5OCmVxZmLqWn",
    "outputId": "bd65f652-b922-4b66-9e60-e3e4e169bb92"
   },
   "outputs": [
    {
     "data": {
      "text/plain": [
       "==========================================================================================\n",
       "Layer (type:depth-idx)                   Output Shape              Param #\n",
       "==========================================================================================\n",
       "ResNet                                   --                        --\n",
       "├─Conv2d: 1-1                            [10, 64, 32, 32]          1,728\n",
       "├─BatchNorm2d: 1-2                       [10, 64, 32, 32]          128\n",
       "├─Sequential: 1-3                        [10, 64, 32, 32]          --\n",
       "│    └─BasicBlock: 2-1                   [10, 64, 32, 32]          --\n",
       "│    │    └─Conv2d: 3-1                  [10, 64, 32, 32]          36,864\n",
       "│    │    └─BatchNorm2d: 3-2             [10, 64, 32, 32]          128\n",
       "│    │    └─Conv2d: 3-3                  [10, 64, 32, 32]          36,864\n",
       "│    │    └─BatchNorm2d: 3-4             [10, 64, 32, 32]          128\n",
       "│    │    └─Linear: 3-5                  [10, 16]                  1,040\n",
       "│    │    └─Linear: 3-6                  [10, 64]                  1,088\n",
       "│    │    └─Sequential: 3-7              [10, 64, 32, 32]          --\n",
       "├─Sequential: 1-4                        [10, 128, 16, 16]         --\n",
       "│    └─BasicBlock: 2-2                   [10, 128, 16, 16]         --\n",
       "│    │    └─Conv2d: 3-8                  [10, 128, 16, 16]         73,728\n",
       "│    │    └─BatchNorm2d: 3-9             [10, 128, 16, 16]         256\n",
       "│    │    └─Conv2d: 3-10                 [10, 128, 16, 16]         147,456\n",
       "│    │    └─BatchNorm2d: 3-11            [10, 128, 16, 16]         256\n",
       "│    │    └─Linear: 3-12                 [10, 32]                  4,128\n",
       "│    │    └─Linear: 3-13                 [10, 128]                 4,224\n",
       "│    │    └─Sequential: 3-14             [10, 128, 16, 16]         8,448\n",
       "│    └─BasicBlock: 2-3                   [10, 128, 16, 16]         --\n",
       "│    │    └─Conv2d: 3-15                 [10, 128, 16, 16]         147,456\n",
       "│    │    └─BatchNorm2d: 3-16            [10, 128, 16, 16]         256\n",
       "│    │    └─Conv2d: 3-17                 [10, 128, 16, 16]         147,456\n",
       "│    │    └─BatchNorm2d: 3-18            [10, 128, 16, 16]         256\n",
       "│    │    └─Linear: 3-19                 [10, 32]                  4,128\n",
       "│    │    └─Linear: 3-20                 [10, 128]                 4,224\n",
       "│    │    └─Sequential: 3-21             [10, 128, 16, 16]         --\n",
       "├─Sequential: 1-5                        [10, 192, 8, 8]           --\n",
       "│    └─BasicBlock: 2-4                   [10, 192, 8, 8]           --\n",
       "│    │    └─Conv2d: 3-22                 [10, 192, 8, 8]           221,184\n",
       "│    │    └─BatchNorm2d: 3-23            [10, 192, 8, 8]           384\n",
       "│    │    └─Conv2d: 3-24                 [10, 192, 8, 8]           331,776\n",
       "│    │    └─BatchNorm2d: 3-25            [10, 192, 8, 8]           384\n",
       "│    │    └─Linear: 3-26                 [10, 48]                  9,264\n",
       "│    │    └─Linear: 3-27                 [10, 192]                 9,408\n",
       "│    │    └─Sequential: 3-28             [10, 192, 8, 8]           24,960\n",
       "├─Sequential: 1-6                        [10, 256, 4, 4]           --\n",
       "│    └─BasicBlock: 2-5                   [10, 256, 4, 4]           --\n",
       "│    │    └─Conv2d: 3-29                 [10, 256, 4, 4]           442,368\n",
       "│    │    └─BatchNorm2d: 3-30            [10, 256, 4, 4]           512\n",
       "│    │    └─Conv2d: 3-31                 [10, 256, 4, 4]           589,824\n",
       "│    │    └─BatchNorm2d: 3-32            [10, 256, 4, 4]           512\n",
       "│    │    └─Linear: 3-33                 [10, 64]                  16,448\n",
       "│    │    └─Linear: 3-34                 [10, 256]                 16,640\n",
       "│    │    └─Sequential: 3-35             [10, 256, 4, 4]           49,664\n",
       "├─Linear: 1-7                            [10, 10]                  2,570\n",
       "==========================================================================================\n",
       "Total params: 2,336,138\n",
       "Trainable params: 2,336,138\n",
       "Non-trainable params: 0\n",
       "Total mult-adds (G): 2.66\n",
       "==========================================================================================\n",
       "Input size (MB): 0.12\n",
       "Forward/backward pass size (MB): 65.61\n",
       "Params size (MB): 9.34\n",
       "Estimated Total Size (MB): 75.08\n",
       "=========================================================================================="
      ]
     },
     "execution_count": 4,
     "metadata": {},
     "output_type": "execute_result"
    }
   ],
   "source": [
    "def ResNet12():\n",
    "    return ResNet(BasicBlock, [1, 2, 1, 1])\n",
    "\n",
    "net = ResNet12()\n",
    "input = torch.randn(10, 3, 32, 32)\n",
    "# torch summary를 통한 conv net, output shape 등에 대한 확인\n",
    "\n",
    "summary(net, input_size=input.shape)\n"
   ]
  },
  {
   "cell_type": "markdown",
   "metadata": {
    "id": "612VTm8MGcIg"
   },
   "source": [
    "# DataSet Loading"
   ]
  },
  {
   "cell_type": "code",
   "execution_count": 5,
   "metadata": {
    "colab": {
     "base_uri": "https://localhost:8080/",
     "height": 0,
     "referenced_widgets": [
      "2814973ffa8f4fd7b54009a23d5ff6ae",
      "96d01391e3cb41838f509e6322b0a649",
      "dc061c00b3a44cdabef94ffa9e1c0759",
      "b404c864aa80461da34e5e21f37d2000",
      "ff8bb779b044477b915910e7e54935cf",
      "5d0ea130e9c44cf9b1d2de0509a78f30",
      "046a2cf262004f46861b2856c70b31bc",
      "6e8e4f53f2e744ca9e4d857af87b67a1",
      "6df0f0554fde45aba162a8736bb518a3",
      "87b27af3d6bb49abb39eeeb132a1cb8e",
      "2217476ffe68476a8488173bba719a9c",
      "5ae020a19d9843fca7558ccf8f18d87e",
      "1fd370b3b9324ab3a228db4c457b60c0",
      "2fda45af5f264fb48bf4fe9a009762d7",
      "aa8f0ff095044f6da157b88211764dce",
      "bc952b57969241f5b6bc73937fc9b784",
      "063ba2a7e99342f2b859d3c89d9af7c9",
      "52ccfabde0554b12a9c4ccfdfd7e4c01",
      "ab690c3f568d4573944129d1c9f029c1",
      "28fe217bf9294cd391593932a21fe47b",
      "647f5ea4399346ed9d53742820f250ed",
      "e86c78e9a643457f98515053ae2a74b0"
     ]
    },
    "id": "kUvtY4zPBb4e",
    "outputId": "96ac2419-db5e-4bcb-fa6e-ba281ed3cb5d"
   },
   "outputs": [
    {
     "name": "stdout",
     "output_type": "stream",
     "text": [
      "Files already downloaded and verified\n",
      "Files already downloaded and verified\n",
      "train_dataset의 개수 :  50000\n",
      "test_dataset의 개수 :  10000\n"
     ]
    },
    {
     "data": {
      "application/vnd.jupyter.widget-view+json": {
       "model_id": "00215b7bb0af4715b798f7d49ea9d2a8",
       "version_major": 2,
       "version_minor": 0
      },
      "text/plain": [
       "  0%|          | 0/196 [00:00<?, ?it/s]"
      ]
     },
     "metadata": {},
     "output_type": "display_data"
    },
    {
     "name": "stdout",
     "output_type": "stream",
     "text": [
      "batch data shape :  torch.Size([256, 3, 32, 32])\n",
      "batch data label :  tensor([8, 1, 5, 4, 9, 3, 3, 4, 8, 8, 4, 3, 6, 9, 0, 2, 5, 4, 5, 4, 2, 3, 9, 2,\n",
      "        6, 0, 5, 6, 2, 5, 3, 0, 0, 7, 8, 5, 9, 1, 4, 5, 3, 5, 7, 1, 9, 7, 1, 6,\n",
      "        9, 4, 0, 5, 1, 0, 9, 6, 0, 9, 5, 8, 0, 9, 0, 9, 1, 8, 9, 4, 9, 7, 1, 0,\n",
      "        5, 1, 2, 7, 9, 5, 6, 7, 0, 1, 7, 7, 0, 1, 1, 6, 0, 1, 1, 7, 9, 2, 7, 6,\n",
      "        2, 3, 0, 0, 4, 4, 7, 8, 1, 4, 0, 9, 1, 0, 7, 5, 3, 6, 0, 3, 9, 0, 3, 7,\n",
      "        4, 4, 6, 0, 5, 4, 3, 8, 1, 6, 0, 7, 3, 2, 5, 6, 9, 4, 0, 8, 2, 4, 5, 6,\n",
      "        0, 7, 6, 8, 8, 1, 9, 4, 8, 3, 2, 3, 1, 0, 9, 6, 8, 3, 0, 7, 5, 2, 5, 1,\n",
      "        6, 0, 4, 9, 0, 4, 2, 0, 7, 5, 7, 7, 2, 3, 1, 6, 1, 1, 7, 0, 4, 0, 0, 3,\n",
      "        8, 3, 8, 0, 5, 3, 6, 6, 3, 7, 1, 6, 6, 2, 0, 4, 4, 6, 0, 7, 3, 5, 9, 5,\n",
      "        7, 0, 9, 9, 2, 8, 2, 2, 8, 7, 4, 9, 1, 4, 1, 1, 1, 4, 4, 7, 9, 8, 0, 5,\n",
      "        9, 0, 2, 3, 6, 7, 0, 1, 6, 0, 2, 4, 6, 3, 5, 2])\n"
     ]
    }
   ],
   "source": [
    "#cifar10 의 데이터의 경우 torchvision.datasets 를 사용해 \n",
    "#데이터를 불러오고 해당하는 데이터를 torch 에서 사용가능하게 dataloader 에 넣어주는 작업을 거칠 예정\n",
    "\n",
    "from torch.utils.data import Dataset, DataLoader\n",
    "from torchvision import datasets, transforms\n",
    "\n",
    "transform = transforms.Compose(\n",
    "                                [\n",
    "                                  transforms.RandomCrop(32, padding=4),\n",
    "                                  transforms.RandomHorizontalFlip(),\n",
    "                                  transforms.ToTensor(),\n",
    "                                  transforms.Normalize((0.4914, 0.4822, 0.4465), (0.2023, 0.1994, 0.2010)),                                \n",
    "                                 ]\n",
    "                               )\n",
    "\n",
    "\n",
    "# train_data, test_data 를 torchvision에서 제공해주는 datasets.CIFAR10 으로 읽어온다.\n",
    "# 읽어온 결과는 dataset으로 저장되며 이 dataset은 dataloader를 거쳐서 학습에 사용된다.\n",
    "\n",
    "train_dataset = datasets.CIFAR10(root = \"./data\", train=True, transform=transform, download=True)\n",
    "test_dataset = datasets.CIFAR10(root = \"./data\", train=False, transform=transform, download=True)\n",
    "\n",
    "# 데이터의 총 개수 해당 데이터에선 50000개의 데이터가 (img, label)의 tuple 형식으로 저장 되어있다.\n",
    "print(\"train_dataset의 개수 : \", len(train_dataset))\n",
    "print(\"test_dataset의 개수 : \", len(test_dataset))\n",
    "\n",
    "batch_size = 256\n",
    "\n",
    "train_loader = DataLoader(train_dataset, batch_size=batch_size,\n",
    "                                          shuffle=True, num_workers=2)\n",
    "test_loader = DataLoader(test_dataset, batch_size=batch_size,\n",
    "                         shuffle=False, num_workers=2)\n",
    "\n",
    "# data를 배치 단위로 불러오는 법 test\n",
    "# for 문이 loop를 다 돌면 1 epoch가 끝나는 형태\n",
    "# tqdm library를 사용해 현재 어느 iteration까지 진행되었는지 notebook 상에서 prograss bar 로 visualize가 가능\n",
    "for i, (data, target) in enumerate(tqdm(train_loader)):\n",
    "    if i == 0 :\n",
    "        print(\"batch data shape : \", data.shape)\n",
    "        print(\"batch data label : \", target)\n"
   ]
  },
  {
   "cell_type": "markdown",
   "metadata": {
    "id": "6i4QGn8GlsT8"
   },
   "source": [
    "# Accuracy Function Define"
   ]
  },
  {
   "cell_type": "code",
   "execution_count": 6,
   "metadata": {
    "id": "9JT1IRh9l_iF"
   },
   "outputs": [],
   "source": [
    "# batch_size의 predict와 label을 받으면 그 결과를 accuracy로 출력한다.\n",
    "def accuracy(predict, label, printable=False):\n",
    "  # 해당 연산이 연산의 계산그래프에 들어가면 안되기에 gradient 계산에서 제외한다.\n",
    "  with torch.no_grad():\n",
    "    # 각 row마다 predict의 추측값이 가장 높은 값의 index를 가지고 온다.(argmax 사용)\n",
    "    predicted = torch.argmax(predict.data, 1)\n",
    "    # 해당하는 predicted 값이 labels와 같은 값인지를 확인한다.\n",
    "    correct = (predicted == label).sum().item()\n",
    "    temp_acc = (100 * correct / predict.shape[0])\n",
    "    if printable:\n",
    "      print(f'Accuracy of the network on the test images (batch_size : {predict.shape[0]}): {temp_acc}%')\n",
    "    \n",
    "    return temp_acc"
   ]
  },
  {
   "cell_type": "markdown",
   "metadata": {
    "id": "Pzp3OVaulzAf"
   },
   "source": [
    "# Validation Function Define"
   ]
  },
  {
   "cell_type": "code",
   "execution_count": 7,
   "metadata": {
    "id": "3DZt1Gcnoiov"
   },
   "outputs": [],
   "source": [
    "# validate function\n",
    "def validate(net, CEloss , test_loader):\n",
    "  # test data에 따라 검색하기\n",
    "  start_time = time.time()\n",
    "  \n",
    "  total_acc = []\n",
    "  total_loss = []\n",
    "\n",
    "  device = \"cuda\" if torch.cuda.is_available() else \"cpu\"\n",
    "  print(\"device : \", device)\n",
    "  #assert device == \"cuda\"\n",
    "  # network를 device type 으로 변경\n",
    "  net.to(device)\n",
    "\n",
    "  for data, label in tqdm(test_loader):\n",
    "    # test data를 돌릴 때에는 gradinet 계산을 하면 안되기에 no_grad로 묶어준다.\n",
    "    with torch.no_grad():\n",
    "      # 이 때 data와 label 또한 GPU로 넘겨주어야 한다.\n",
    "      data = data.to(device)\n",
    "      label = label.to(device)\n",
    "          \n",
    "      # mobilenetv2 모델에 data를 넣어 추측(predict) 한다.\n",
    "      predict = net(data).to(device)\n",
    "      \n",
    "      # 학습 중 batch_size의 accuracy가 보고싶다면 printable=True 를 설정하세요.\n",
    "      temp_acc = accuracy(predict, label)\n",
    "      total_acc.append(temp_acc)\n",
    "      \n",
    "      # loss의 경우 추측값과 정답값을 비교한다.\n",
    "      loss = CEloss(predict, label)\n",
    "      total_loss.append(loss)\n",
    "      \n",
    "      # optimizer를 step 하는 것을 통해 optimizer에 선언한 parameter들을 학습시킨다.\n",
    "  print(\"\\n\")\n",
    "  print(f\"Test loss : {np.array(total_loss).sum() / len(total_loss)}\")\n",
    "  print(f\"Test accuracy : {np.array(total_acc).sum() / len(total_acc)}\")\n",
    "  print(f\"1 epoch time : {time.time() -start_time} (s)\")\n",
    "  print(\"\\n\")  \n"
   ]
  },
  {
   "cell_type": "code",
   "execution_count": 8,
   "metadata": {},
   "outputs": [],
   "source": [
    "#### Train"
   ]
  },
  {
   "cell_type": "code",
   "execution_count": 11,
   "metadata": {},
   "outputs": [],
   "source": [
    "# loss 는 내가 네트워크를 어떠한 평가함수로 학습시키고 싶은지에 대한 함수이다.\n",
    "# classification의 경우 대부분 cross-entropy loss 를 사용한다.\n",
    "# https://darkpgmr.tistory.com/186 loss에 대한 대략적인 설명\n",
    "CEloss = nn.CrossEntropyLoss()\n",
    "\n",
    "# optimizer는 loss.backward() 를 통해 얻은 gradient를 가지고 어떤 방식으로 학습시킬지에 대한 function 이다.\n",
    "# https://ganghee-lee.tistory.com/24 optimizer에 대한 대략적인 설명\n",
    "# https://pytorch.org/docs/stable/generated/torch.optim.SGD.html  torch.optim.sgd 에 대한 설명\n",
    "optimizer = torch.optim.SGD(net.parameters(), lr=0.01, momentum=0.9, weight_decay=5e-4)\n",
    "scheduler = torch.optim.lr_scheduler.CosineAnnealingLR(optimizer, T_max=100)\n",
    "\n",
    "def train(net, CEloss, train_loader, optimizer, scheduler, test_loader=False, epochs=20, validate_check=False):\n",
    "  # GPU를 사용하는지 안 하는지에 대한 확인 만약 CPU로 되어있을 경우 colab runtime 세션관리 에서 GPU 로 변경해두어야 함.\n",
    "  device = \"cuda\" if torch.cuda.is_available() else \"cpu\"\n",
    "  print(\"device : \", device)\n",
    "  #assert device == \"cuda\"\n",
    "  # network를 device type 으로 변경\n",
    "  net.to(device)\n",
    "\n",
    "  for epoch in range(epochs):\n",
    "    total_acc = []\n",
    "    total_loss = []\n",
    "    start_time = time.time()\n",
    "    print(f\"{epoch} epcoh start\")\n",
    "    for data, label in tqdm(train_loader):\n",
    "      # 이 때 data와 label 또한 GPU로 넘겨주어야 한다.\n",
    "      data = data.to(device)\n",
    "      label = label.to(device)\n",
    "      \n",
    "      # optimizer 에 쓰레기값이 남아있지 않게 zero_grad()를 통해 초기화 시켜준다.\n",
    "      optimizer.zero_grad()\n",
    "      \n",
    "      # resnet12 모델에 data를 넣어 추측(predict) 한다.\n",
    "      predict = net(data).to(device)\n",
    "      \n",
    "      # 학습 중 batch_size의 accuracy가 보고싶다면 printable=True 를 설정하세요.\n",
    "      temp_acc = accuracy(predict, label)\n",
    "      total_acc.append(temp_acc)\n",
    "      \n",
    "      # loss의 경우 추측값과 정답값을 비교한다.\n",
    "      loss = CEloss(predict, label)\n",
    "      total_loss.append(loss)\n",
    "      \n",
    "      # loss를 backward 시키는 것을 통해 네트워크의 trainable parameter에 대해 gradient를 구한다.\n",
    "      loss.backward()\n",
    "      \n",
    "      # optimizer를 step 하는 것을 통해 optimizer에 선언한 parameter들을 학습시킨다.\n",
    "      optimizer.step()\n",
    "    # scheduler를 통한 lr 감소 확인\n",
    "    scheduler.step()\n",
    "    print(\"\\n\")\n",
    "    print(f\"lr : {scheduler.get_last_lr()}\")\n",
    "    print(f\"{epoch} epcoh loss : {np.array(total_loss).sum() / len(total_loss)}\")\n",
    "    print(f\"{epoch} epcoh train accuracy : {np.array(total_acc).sum() / len(total_acc)}\")\n",
    "    print(f\"{epoch} epcoh time : {time.time() -start_time} (s)\")\n",
    "    print(\"\\n\")\n",
    "\n",
    "\n",
    "    # 70 이후 전부 테스트\n",
    "    if epoch % 5 == 0: \n",
    "      if validate_check == True and test_loader != False:\n",
    "        print(\"===============================\")\n",
    "        print(f\"{epoch} epcoh valid\")\n",
    "        validate(net, CEloss, test_loader)\n",
    "        print(\"===============================\")\n",
    "    \n",
    "  # 학습 완료된 후 validation check \n",
    "  if validate_check == True and test_loader != False:\n",
    "      print(\"===============================\")\n",
    "      print(f\"{epochs} epcoh valid\")\n",
    "      validate(net, CEloss, test_loader)\n",
    "      print(\"===============================\")"
   ]
  },
  {
   "cell_type": "markdown",
   "metadata": {
    "id": "uY9QV99PKw5N"
   },
   "source": [
    "# Trained Network loading"
   ]
  },
  {
   "cell_type": "code",
   "execution_count": 19,
   "metadata": {},
   "outputs": [
    {
     "data": {
      "text/plain": [
       "<All keys matched successfully>"
      ]
     },
     "execution_count": 19,
     "metadata": {},
     "output_type": "execute_result"
    }
   ],
   "source": [
    "device = torch.device('cpu')\n",
    "PATH=\"/home/huiseong/jupyter_workspace/digital_circuit_IC881/07_SEResNet_model_epoch_90.pth\"\n",
    "net.load_state_dict(torch.load(PATH, map_location=device))"
   ]
  },
  {
   "cell_type": "code",
   "execution_count": 20,
   "metadata": {},
   "outputs": [],
   "source": [
    "origin = copy.deepcopy(net)\n",
    "postprun = copy.deepcopy(net)\n",
    "\n",
    "\n",
    "module_list=[]\n",
    "module_list.append(postprun.conv1)\n",
    "module_list.append(postprun.layer1[0].conv1)\n",
    "module_list.append(postprun.layer1[0].conv2)\n",
    "module_list.append(postprun.layer2[0].conv1)\n",
    "module_list.append(postprun.layer2[0].conv2)\n",
    "module_list.append(postprun.layer2[1].conv1)\n",
    "module_list.append(postprun.layer2[1].conv2)\n",
    "module_list.append(postprun.layer3[0].conv1)\n",
    "module_list.append(postprun.layer3[0].conv2)\n",
    "module_list.append(postprun.layer4[0].conv1)\n",
    "module_list.append(postprun.layer4[0].conv2)"
   ]
  },
  {
   "cell_type": "code",
   "execution_count": null,
   "metadata": {},
   "outputs": [],
   "source": [
    "#print('original parameters : ',sum(p.numel() for p in origin.parameters() if p.requires_grad))\n",
    "\n",
    "#prune.random_unstructured(conv1_front, name='weight', amount=0.3)\n",
    "\n",
    "#print(torch.mean(origin.conv1.weight))\n",
    "#print(torch.mean(conv1_front.weight))"
   ]
  },
  {
   "cell_type": "markdown",
   "metadata": {
    "id": "sqGoQk64RKcj"
   },
   "source": [
    "# Validation Start"
   ]
  },
  {
   "cell_type": "code",
   "execution_count": null,
   "metadata": {
    "colab": {
     "base_uri": "https://localhost:8080/",
     "height": 259,
     "referenced_widgets": [
      "6c22365529f94c43b30c1207e4bbacdf",
      "da7d7727c76042a48961913e467bcb29",
      "9379e6e3e18e4a80957bc7ac5e5af7c9",
      "20d806d4846f4545b946087d65b13fbc",
      "aca84e23d7154a22929de94b06a44c28",
      "4a3ba4bdbd984302bbec8eb3226ce882",
      "d3782d830c874097ba28eb5db011fb13",
      "34bfcf20b70d4ac5b4eb711301b8df71",
      "dd4f219764884f29a78a65c5671fddc3",
      "4fb3b311f9ec4f4ea056433643534fdd",
      "589c83f14309412aa5a1ae0db5333f1a"
     ]
    },
    "id": "vOtGmDjoPbVd",
    "outputId": "23dfc642-7976-40a9-be4c-e34771fa260c"
   },
   "outputs": [],
   "source": [
    "# 원본 parameter validation\n",
    "#validate(origin, CEloss, test_loader)"
   ]
  },
  {
   "cell_type": "markdown",
   "metadata": {
    "id": "j_R2OzXcR1Ks"
   },
   "source": [
    "# 전체에서 랜덤으로 날리기"
   ]
  },
  {
   "cell_type": "code",
   "execution_count": null,
   "metadata": {
    "colab": {
     "base_uri": "https://localhost:8080/",
     "height": 179
    },
    "id": "qsdHrIOkR7lr",
    "outputId": "001ee3d7-4f9c-4624-d697-0067afb9f4e4"
   },
   "outputs": [],
   "source": [
    "def Random_unstructured_prun(module,ratio):\n",
    "    for i in module:\n",
    "        prune.random_unstructured(i, name='weight', amount=ratio)\n",
    "        \n",
    "#Random_unstructured_prun(module_list,0.5)\n",
    "#validate(postprun, CEloss, test_loader)"
   ]
  },
  {
   "cell_type": "markdown",
   "metadata": {},
   "source": [
    "# Global Unstructured prunning"
   ]
  },
  {
   "cell_type": "code",
   "execution_count": null,
   "metadata": {},
   "outputs": [],
   "source": [
    "para=[]\n",
    "for i in module_list:\n",
    "    para.append([i, 'weight'])\n",
    "\n",
    "prune.global_unstructured(\n",
    "    para,\n",
    "    pruning_method=prune.L1Unstructured,\n",
    "    amount=0.1,\n",
    ")\n",
    "\n",
    "#validate(postprun, CEloss, test_loader)"
   ]
  },
  {
   "cell_type": "markdown",
   "metadata": {},
   "source": [
    "# L2 Norm Structured prunning"
   ]
  },
  {
   "cell_type": "code",
   "execution_count": 21,
   "metadata": {},
   "outputs": [
    {
     "name": "stdout",
     "output_type": "stream",
     "text": [
      "채널 총 갯수 :  192\n",
      "Sparsity에 따른 리스트의 기준점 인덱스 :  48\n",
      "채널 총 갯수 :  4096\n",
      "Sparsity에 따른 리스트의 기준점 인덱스 :  1024\n",
      "채널 총 갯수 :  4096\n",
      "Sparsity에 따른 리스트의 기준점 인덱스 :  1024\n",
      "채널 총 갯수 :  8192\n",
      "Sparsity에 따른 리스트의 기준점 인덱스 :  2048\n",
      "채널 총 갯수 :  16384\n",
      "Sparsity에 따른 리스트의 기준점 인덱스 :  4096\n",
      "채널 총 갯수 :  16384\n",
      "Sparsity에 따른 리스트의 기준점 인덱스 :  4096\n",
      "채널 총 갯수 :  16384\n",
      "Sparsity에 따른 리스트의 기준점 인덱스 :  4096\n",
      "채널 총 갯수 :  24576\n",
      "Sparsity에 따른 리스트의 기준점 인덱스 :  6144\n",
      "채널 총 갯수 :  36864\n",
      "Sparsity에 따른 리스트의 기준점 인덱스 :  9216\n",
      "채널 총 갯수 :  49152\n",
      "Sparsity에 따른 리스트의 기준점 인덱스 :  12288\n",
      "채널 총 갯수 :  65536\n",
      "Sparsity에 따른 리스트의 기준점 인덱스 :  16384\n",
      "device :  cpu\n"
     ]
    },
    {
     "data": {
      "application/vnd.jupyter.widget-view+json": {
       "model_id": "a6d84117a6d9422294fbe5908ce08823",
       "version_major": 2,
       "version_minor": 0
      },
      "text/plain": [
       "  0%|          | 0/40 [00:00<?, ?it/s]"
      ]
     },
     "metadata": {},
     "output_type": "display_data"
    },
    {
     "name": "stdout",
     "output_type": "stream",
     "text": [
      "\n",
      "\n",
      "Test loss : 0.506070327758789\n",
      "Test accuracy : 86.93359375\n",
      "1 epoch time : 21.325719833374023 (s)\n",
      "\n",
      "\n"
     ]
    }
   ],
   "source": [
    "# 한 레이어에서 각 채널별 L2 Norm을 구한다.(3X3 고정임)\n",
    "# 각 레이어 별로 원하는 sparsity 값에 따라 Norm 의 기준점을 찾는다.\n",
    "# 기준점 이하의 채널은 전부 0으로 날린다.\n",
    "# (64,3,3,3) = (K,C,w,h)\n",
    "\n",
    "conv_list = []\n",
    "conv_list.append('conv1.weight')\n",
    "conv_list.append('layer1.0.conv1.weight')\n",
    "conv_list.append('layer1.0.conv2.weight')\n",
    "conv_list.append('layer2.0.conv1.weight')\n",
    "conv_list.append('layer2.0.conv2.weight')\n",
    "conv_list.append('layer2.1.conv1.weight')\n",
    "conv_list.append('layer2.1.conv2.weight')\n",
    "conv_list.append('layer3.0.conv1.weight')\n",
    "conv_list.append('layer3.0.conv2.weight')\n",
    "conv_list.append('layer4.0.conv1.weight')\n",
    "conv_list.append('layer4.0.conv2.weight')\n",
    "\n",
    "sparsity = 0.25 # 1미만으로 넣을 것\n",
    "# Model에 변경한 Tensor를 삽입하기 위한 dummy model\n",
    "pretrained_dict = postprun.state_dict()\n",
    "\n",
    "for lst in conv_list:\n",
    "    # 채널 별 L2 Norm 계산 및 리스트 생성\n",
    "    weights = pretrained_dict[lst]\n",
    "    channel_cnt = len(weights) * len(weights[0])\n",
    "    print(\"채널 총 갯수 : \",channel_cnt)\n",
    "    standard = math.floor(channel_cnt * sparsity)\n",
    "    print(\"Sparsity에 따른 리스트의 기준점 인덱스 : \", standard)\n",
    "    norm_list = []\n",
    "    k_cnt = 0\n",
    "    c_cnt = 0\n",
    "    for K in weights:\n",
    "        c_cnt = 0\n",
    "        for C in K:\n",
    "            temp = torch.norm(C) # 3x3 채널 L2 Norm 수행 \n",
    "            norm_list.append([temp, k_cnt, c_cnt]) # 리스트에 채널 갯수만큼 Norm과 그 때 인덱스 저장\n",
    "            c_cnt += 1\n",
    "        k_cnt += 1\n",
    "    norm_list.sort() # 리스트 오름차순 정렬\n",
    "\n",
    "    # 지정 기준 인덱스 이하 프루닝 적용\n",
    "    for i in range(standard+1):\n",
    "        K = norm_list[i][1]\n",
    "        C = norm_list[i][2]\n",
    "        weights[K][C] = weights[K][C].mul(0)\n",
    "\n",
    "    # 프루닝 적용한 Tensor Model로 삽입\n",
    "    pretrained_dict[lst] = weights\n",
    "    postprun.load_state_dict(pretrained_dict)\n",
    "\n",
    "# Prunig 후 검증\n",
    "validate(postprun, CEloss, test_loader)"
   ]
  },
  {
   "cell_type": "code",
   "execution_count": null,
   "metadata": {},
   "outputs": [],
   "source": [
    "#pretrained_dict = postprun.state_dict()\n",
    "#weights = pretrained_dict['conv1.weight']\n",
    "\n",
    "#weights[0] = torch.add(weights[0],1)\n",
    "#weights['i']['j'] = weights['i']['j'].mul(0)\n",
    "#weights[0] = weights[0].mul(2)\n",
    "\n",
    "#pretrained_dict['conv1.weight'] = weights\n",
    "#postprun.load_state_dict(pretrained_dict)"
   ]
  },
  {
   "cell_type": "code",
   "execution_count": null,
   "metadata": {},
   "outputs": [],
   "source": [
    "#x = list(pretrained_dict)"
   ]
  },
  {
   "cell_type": "code",
   "execution_count": null,
   "metadata": {},
   "outputs": [],
   "source": []
  }
 ],
 "metadata": {
  "colab": {
   "collapsed_sections": [
    "grc-bqbumwId",
    "CCRtZPFlhhgw",
    "31WpmqaQiCBE",
    "dO3OW8HXkU9f",
    "612VTm8MGcIg",
    "6i4QGn8GlsT8",
    "Pzp3OVaulzAf",
    "uY9QV99PKw5N",
    "sqGoQk64RKcj",
    "j_R2OzXcR1Ks"
   ],
   "include_colab_link": true,
   "name": "06_00_pruning_SEResNet12.ipynb",
   "provenance": []
  },
  "kernelspec": {
   "display_name": "Python 3 (ipykernel)",
   "language": "python",
   "name": "python3"
  },
  "language_info": {
   "codemirror_mode": {
    "name": "ipython",
    "version": 3
   },
   "file_extension": ".py",
   "mimetype": "text/x-python",
   "name": "python",
   "nbconvert_exporter": "python",
   "pygments_lexer": "ipython3",
   "version": "3.8.10"
  },
  "widgets": {
   "application/vnd.jupyter.widget-state+json": {
    "046a2cf262004f46861b2856c70b31bc": {
     "model_module": "@jupyter-widgets/base",
     "model_module_version": "1.2.0",
     "model_name": "LayoutModel",
     "state": {
      "_model_module": "@jupyter-widgets/base",
      "_model_module_version": "1.2.0",
      "_model_name": "LayoutModel",
      "_view_count": null,
      "_view_module": "@jupyter-widgets/base",
      "_view_module_version": "1.2.0",
      "_view_name": "LayoutView",
      "align_content": null,
      "align_items": null,
      "align_self": null,
      "border": null,
      "bottom": null,
      "display": null,
      "flex": null,
      "flex_flow": null,
      "grid_area": null,
      "grid_auto_columns": null,
      "grid_auto_flow": null,
      "grid_auto_rows": null,
      "grid_column": null,
      "grid_gap": null,
      "grid_row": null,
      "grid_template_areas": null,
      "grid_template_columns": null,
      "grid_template_rows": null,
      "height": null,
      "justify_content": null,
      "justify_items": null,
      "left": null,
      "margin": null,
      "max_height": null,
      "max_width": null,
      "min_height": null,
      "min_width": null,
      "object_fit": null,
      "object_position": null,
      "order": null,
      "overflow": null,
      "overflow_x": null,
      "overflow_y": null,
      "padding": null,
      "right": null,
      "top": null,
      "visibility": null,
      "width": null
     }
    },
    "063ba2a7e99342f2b859d3c89d9af7c9": {
     "model_module": "@jupyter-widgets/controls",
     "model_module_version": "1.5.0",
     "model_name": "DescriptionStyleModel",
     "state": {
      "_model_module": "@jupyter-widgets/controls",
      "_model_module_version": "1.5.0",
      "_model_name": "DescriptionStyleModel",
      "_view_count": null,
      "_view_module": "@jupyter-widgets/base",
      "_view_module_version": "1.2.0",
      "_view_name": "StyleView",
      "description_width": ""
     }
    },
    "1fd370b3b9324ab3a228db4c457b60c0": {
     "model_module": "@jupyter-widgets/base",
     "model_module_version": "1.2.0",
     "model_name": "LayoutModel",
     "state": {
      "_model_module": "@jupyter-widgets/base",
      "_model_module_version": "1.2.0",
      "_model_name": "LayoutModel",
      "_view_count": null,
      "_view_module": "@jupyter-widgets/base",
      "_view_module_version": "1.2.0",
      "_view_name": "LayoutView",
      "align_content": null,
      "align_items": null,
      "align_self": null,
      "border": null,
      "bottom": null,
      "display": null,
      "flex": null,
      "flex_flow": null,
      "grid_area": null,
      "grid_auto_columns": null,
      "grid_auto_flow": null,
      "grid_auto_rows": null,
      "grid_column": null,
      "grid_gap": null,
      "grid_row": null,
      "grid_template_areas": null,
      "grid_template_columns": null,
      "grid_template_rows": null,
      "height": null,
      "justify_content": null,
      "justify_items": null,
      "left": null,
      "margin": null,
      "max_height": null,
      "max_width": null,
      "min_height": null,
      "min_width": null,
      "object_fit": null,
      "object_position": null,
      "order": null,
      "overflow": null,
      "overflow_x": null,
      "overflow_y": null,
      "padding": null,
      "right": null,
      "top": null,
      "visibility": null,
      "width": null
     }
    },
    "20d806d4846f4545b946087d65b13fbc": {
     "model_module": "@jupyter-widgets/controls",
     "model_module_version": "1.5.0",
     "model_name": "FloatProgressModel",
     "state": {
      "_dom_classes": [],
      "_model_module": "@jupyter-widgets/controls",
      "_model_module_version": "1.5.0",
      "_model_name": "FloatProgressModel",
      "_view_count": null,
      "_view_module": "@jupyter-widgets/controls",
      "_view_module_version": "1.5.0",
      "_view_name": "ProgressView",
      "bar_style": "success",
      "description": "",
      "description_tooltip": null,
      "layout": "IPY_MODEL_dd4f219764884f29a78a65c5671fddc3",
      "max": 40,
      "min": 0,
      "orientation": "horizontal",
      "style": "IPY_MODEL_34bfcf20b70d4ac5b4eb711301b8df71",
      "value": 40
     }
    },
    "2217476ffe68476a8488173bba719a9c": {
     "model_module": "@jupyter-widgets/base",
     "model_module_version": "1.2.0",
     "model_name": "LayoutModel",
     "state": {
      "_model_module": "@jupyter-widgets/base",
      "_model_module_version": "1.2.0",
      "_model_name": "LayoutModel",
      "_view_count": null,
      "_view_module": "@jupyter-widgets/base",
      "_view_module_version": "1.2.0",
      "_view_name": "LayoutView",
      "align_content": null,
      "align_items": null,
      "align_self": null,
      "border": null,
      "bottom": null,
      "display": null,
      "flex": null,
      "flex_flow": null,
      "grid_area": null,
      "grid_auto_columns": null,
      "grid_auto_flow": null,
      "grid_auto_rows": null,
      "grid_column": null,
      "grid_gap": null,
      "grid_row": null,
      "grid_template_areas": null,
      "grid_template_columns": null,
      "grid_template_rows": null,
      "height": null,
      "justify_content": null,
      "justify_items": null,
      "left": null,
      "margin": null,
      "max_height": null,
      "max_width": null,
      "min_height": null,
      "min_width": null,
      "object_fit": null,
      "object_position": null,
      "order": null,
      "overflow": null,
      "overflow_x": null,
      "overflow_y": null,
      "padding": null,
      "right": null,
      "top": null,
      "visibility": null,
      "width": null
     }
    },
    "2814973ffa8f4fd7b54009a23d5ff6ae": {
     "model_module": "@jupyter-widgets/controls",
     "model_module_version": "1.5.0",
     "model_name": "HBoxModel",
     "state": {
      "_dom_classes": [],
      "_model_module": "@jupyter-widgets/controls",
      "_model_module_version": "1.5.0",
      "_model_name": "HBoxModel",
      "_view_count": null,
      "_view_module": "@jupyter-widgets/controls",
      "_view_module_version": "1.5.0",
      "_view_name": "HBoxView",
      "box_style": "",
      "children": [
       "IPY_MODEL_dc061c00b3a44cdabef94ffa9e1c0759",
       "IPY_MODEL_b404c864aa80461da34e5e21f37d2000",
       "IPY_MODEL_ff8bb779b044477b915910e7e54935cf"
      ],
      "layout": "IPY_MODEL_96d01391e3cb41838f509e6322b0a649"
     }
    },
    "28fe217bf9294cd391593932a21fe47b": {
     "model_module": "@jupyter-widgets/base",
     "model_module_version": "1.2.0",
     "model_name": "LayoutModel",
     "state": {
      "_model_module": "@jupyter-widgets/base",
      "_model_module_version": "1.2.0",
      "_model_name": "LayoutModel",
      "_view_count": null,
      "_view_module": "@jupyter-widgets/base",
      "_view_module_version": "1.2.0",
      "_view_name": "LayoutView",
      "align_content": null,
      "align_items": null,
      "align_self": null,
      "border": null,
      "bottom": null,
      "display": null,
      "flex": null,
      "flex_flow": null,
      "grid_area": null,
      "grid_auto_columns": null,
      "grid_auto_flow": null,
      "grid_auto_rows": null,
      "grid_column": null,
      "grid_gap": null,
      "grid_row": null,
      "grid_template_areas": null,
      "grid_template_columns": null,
      "grid_template_rows": null,
      "height": null,
      "justify_content": null,
      "justify_items": null,
      "left": null,
      "margin": null,
      "max_height": null,
      "max_width": null,
      "min_height": null,
      "min_width": null,
      "object_fit": null,
      "object_position": null,
      "order": null,
      "overflow": null,
      "overflow_x": null,
      "overflow_y": null,
      "padding": null,
      "right": null,
      "top": null,
      "visibility": null,
      "width": null
     }
    },
    "2fda45af5f264fb48bf4fe9a009762d7": {
     "model_module": "@jupyter-widgets/controls",
     "model_module_version": "1.5.0",
     "model_name": "HTMLModel",
     "state": {
      "_dom_classes": [],
      "_model_module": "@jupyter-widgets/controls",
      "_model_module_version": "1.5.0",
      "_model_name": "HTMLModel",
      "_view_count": null,
      "_view_module": "@jupyter-widgets/controls",
      "_view_module_version": "1.5.0",
      "_view_name": "HTMLView",
      "description": "",
      "description_tooltip": null,
      "layout": "IPY_MODEL_52ccfabde0554b12a9c4ccfdfd7e4c01",
      "placeholder": "​",
      "style": "IPY_MODEL_063ba2a7e99342f2b859d3c89d9af7c9",
      "value": "100%"
     }
    },
    "34bfcf20b70d4ac5b4eb711301b8df71": {
     "model_module": "@jupyter-widgets/controls",
     "model_module_version": "1.5.0",
     "model_name": "ProgressStyleModel",
     "state": {
      "_model_module": "@jupyter-widgets/controls",
      "_model_module_version": "1.5.0",
      "_model_name": "ProgressStyleModel",
      "_view_count": null,
      "_view_module": "@jupyter-widgets/base",
      "_view_module_version": "1.2.0",
      "_view_name": "StyleView",
      "bar_color": null,
      "description_width": ""
     }
    },
    "4a3ba4bdbd984302bbec8eb3226ce882": {
     "model_module": "@jupyter-widgets/controls",
     "model_module_version": "1.5.0",
     "model_name": "DescriptionStyleModel",
     "state": {
      "_model_module": "@jupyter-widgets/controls",
      "_model_module_version": "1.5.0",
      "_model_name": "DescriptionStyleModel",
      "_view_count": null,
      "_view_module": "@jupyter-widgets/base",
      "_view_module_version": "1.2.0",
      "_view_name": "StyleView",
      "description_width": ""
     }
    },
    "4fb3b311f9ec4f4ea056433643534fdd": {
     "model_module": "@jupyter-widgets/controls",
     "model_module_version": "1.5.0",
     "model_name": "DescriptionStyleModel",
     "state": {
      "_model_module": "@jupyter-widgets/controls",
      "_model_module_version": "1.5.0",
      "_model_name": "DescriptionStyleModel",
      "_view_count": null,
      "_view_module": "@jupyter-widgets/base",
      "_view_module_version": "1.2.0",
      "_view_name": "StyleView",
      "description_width": ""
     }
    },
    "52ccfabde0554b12a9c4ccfdfd7e4c01": {
     "model_module": "@jupyter-widgets/base",
     "model_module_version": "1.2.0",
     "model_name": "LayoutModel",
     "state": {
      "_model_module": "@jupyter-widgets/base",
      "_model_module_version": "1.2.0",
      "_model_name": "LayoutModel",
      "_view_count": null,
      "_view_module": "@jupyter-widgets/base",
      "_view_module_version": "1.2.0",
      "_view_name": "LayoutView",
      "align_content": null,
      "align_items": null,
      "align_self": null,
      "border": null,
      "bottom": null,
      "display": null,
      "flex": null,
      "flex_flow": null,
      "grid_area": null,
      "grid_auto_columns": null,
      "grid_auto_flow": null,
      "grid_auto_rows": null,
      "grid_column": null,
      "grid_gap": null,
      "grid_row": null,
      "grid_template_areas": null,
      "grid_template_columns": null,
      "grid_template_rows": null,
      "height": null,
      "justify_content": null,
      "justify_items": null,
      "left": null,
      "margin": null,
      "max_height": null,
      "max_width": null,
      "min_height": null,
      "min_width": null,
      "object_fit": null,
      "object_position": null,
      "order": null,
      "overflow": null,
      "overflow_x": null,
      "overflow_y": null,
      "padding": null,
      "right": null,
      "top": null,
      "visibility": null,
      "width": null
     }
    },
    "589c83f14309412aa5a1ae0db5333f1a": {
     "model_module": "@jupyter-widgets/base",
     "model_module_version": "1.2.0",
     "model_name": "LayoutModel",
     "state": {
      "_model_module": "@jupyter-widgets/base",
      "_model_module_version": "1.2.0",
      "_model_name": "LayoutModel",
      "_view_count": null,
      "_view_module": "@jupyter-widgets/base",
      "_view_module_version": "1.2.0",
      "_view_name": "LayoutView",
      "align_content": null,
      "align_items": null,
      "align_self": null,
      "border": null,
      "bottom": null,
      "display": null,
      "flex": null,
      "flex_flow": null,
      "grid_area": null,
      "grid_auto_columns": null,
      "grid_auto_flow": null,
      "grid_auto_rows": null,
      "grid_column": null,
      "grid_gap": null,
      "grid_row": null,
      "grid_template_areas": null,
      "grid_template_columns": null,
      "grid_template_rows": null,
      "height": null,
      "justify_content": null,
      "justify_items": null,
      "left": null,
      "margin": null,
      "max_height": null,
      "max_width": null,
      "min_height": null,
      "min_width": null,
      "object_fit": null,
      "object_position": null,
      "order": null,
      "overflow": null,
      "overflow_x": null,
      "overflow_y": null,
      "padding": null,
      "right": null,
      "top": null,
      "visibility": null,
      "width": null
     }
    },
    "5ae020a19d9843fca7558ccf8f18d87e": {
     "model_module": "@jupyter-widgets/controls",
     "model_module_version": "1.5.0",
     "model_name": "HBoxModel",
     "state": {
      "_dom_classes": [],
      "_model_module": "@jupyter-widgets/controls",
      "_model_module_version": "1.5.0",
      "_model_name": "HBoxModel",
      "_view_count": null,
      "_view_module": "@jupyter-widgets/controls",
      "_view_module_version": "1.5.0",
      "_view_name": "HBoxView",
      "box_style": "",
      "children": [
       "IPY_MODEL_2fda45af5f264fb48bf4fe9a009762d7",
       "IPY_MODEL_aa8f0ff095044f6da157b88211764dce",
       "IPY_MODEL_bc952b57969241f5b6bc73937fc9b784"
      ],
      "layout": "IPY_MODEL_1fd370b3b9324ab3a228db4c457b60c0"
     }
    },
    "5d0ea130e9c44cf9b1d2de0509a78f30": {
     "model_module": "@jupyter-widgets/controls",
     "model_module_version": "1.5.0",
     "model_name": "DescriptionStyleModel",
     "state": {
      "_model_module": "@jupyter-widgets/controls",
      "_model_module_version": "1.5.0",
      "_model_name": "DescriptionStyleModel",
      "_view_count": null,
      "_view_module": "@jupyter-widgets/base",
      "_view_module_version": "1.2.0",
      "_view_name": "StyleView",
      "description_width": ""
     }
    },
    "647f5ea4399346ed9d53742820f250ed": {
     "model_module": "@jupyter-widgets/controls",
     "model_module_version": "1.5.0",
     "model_name": "DescriptionStyleModel",
     "state": {
      "_model_module": "@jupyter-widgets/controls",
      "_model_module_version": "1.5.0",
      "_model_name": "DescriptionStyleModel",
      "_view_count": null,
      "_view_module": "@jupyter-widgets/base",
      "_view_module_version": "1.2.0",
      "_view_name": "StyleView",
      "description_width": ""
     }
    },
    "6c22365529f94c43b30c1207e4bbacdf": {
     "model_module": "@jupyter-widgets/controls",
     "model_module_version": "1.5.0",
     "model_name": "HBoxModel",
     "state": {
      "_dom_classes": [],
      "_model_module": "@jupyter-widgets/controls",
      "_model_module_version": "1.5.0",
      "_model_name": "HBoxModel",
      "_view_count": null,
      "_view_module": "@jupyter-widgets/controls",
      "_view_module_version": "1.5.0",
      "_view_name": "HBoxView",
      "box_style": "",
      "children": [
       "IPY_MODEL_9379e6e3e18e4a80957bc7ac5e5af7c9",
       "IPY_MODEL_20d806d4846f4545b946087d65b13fbc",
       "IPY_MODEL_aca84e23d7154a22929de94b06a44c28"
      ],
      "layout": "IPY_MODEL_da7d7727c76042a48961913e467bcb29"
     }
    },
    "6df0f0554fde45aba162a8736bb518a3": {
     "model_module": "@jupyter-widgets/base",
     "model_module_version": "1.2.0",
     "model_name": "LayoutModel",
     "state": {
      "_model_module": "@jupyter-widgets/base",
      "_model_module_version": "1.2.0",
      "_model_name": "LayoutModel",
      "_view_count": null,
      "_view_module": "@jupyter-widgets/base",
      "_view_module_version": "1.2.0",
      "_view_name": "LayoutView",
      "align_content": null,
      "align_items": null,
      "align_self": null,
      "border": null,
      "bottom": null,
      "display": null,
      "flex": null,
      "flex_flow": null,
      "grid_area": null,
      "grid_auto_columns": null,
      "grid_auto_flow": null,
      "grid_auto_rows": null,
      "grid_column": null,
      "grid_gap": null,
      "grid_row": null,
      "grid_template_areas": null,
      "grid_template_columns": null,
      "grid_template_rows": null,
      "height": null,
      "justify_content": null,
      "justify_items": null,
      "left": null,
      "margin": null,
      "max_height": null,
      "max_width": null,
      "min_height": null,
      "min_width": null,
      "object_fit": null,
      "object_position": null,
      "order": null,
      "overflow": null,
      "overflow_x": null,
      "overflow_y": null,
      "padding": null,
      "right": null,
      "top": null,
      "visibility": null,
      "width": null
     }
    },
    "6e8e4f53f2e744ca9e4d857af87b67a1": {
     "model_module": "@jupyter-widgets/controls",
     "model_module_version": "1.5.0",
     "model_name": "ProgressStyleModel",
     "state": {
      "_model_module": "@jupyter-widgets/controls",
      "_model_module_version": "1.5.0",
      "_model_name": "ProgressStyleModel",
      "_view_count": null,
      "_view_module": "@jupyter-widgets/base",
      "_view_module_version": "1.2.0",
      "_view_name": "StyleView",
      "bar_color": null,
      "description_width": ""
     }
    },
    "87b27af3d6bb49abb39eeeb132a1cb8e": {
     "model_module": "@jupyter-widgets/controls",
     "model_module_version": "1.5.0",
     "model_name": "DescriptionStyleModel",
     "state": {
      "_model_module": "@jupyter-widgets/controls",
      "_model_module_version": "1.5.0",
      "_model_name": "DescriptionStyleModel",
      "_view_count": null,
      "_view_module": "@jupyter-widgets/base",
      "_view_module_version": "1.2.0",
      "_view_name": "StyleView",
      "description_width": ""
     }
    },
    "9379e6e3e18e4a80957bc7ac5e5af7c9": {
     "model_module": "@jupyter-widgets/controls",
     "model_module_version": "1.5.0",
     "model_name": "HTMLModel",
     "state": {
      "_dom_classes": [],
      "_model_module": "@jupyter-widgets/controls",
      "_model_module_version": "1.5.0",
      "_model_name": "HTMLModel",
      "_view_count": null,
      "_view_module": "@jupyter-widgets/controls",
      "_view_module_version": "1.5.0",
      "_view_name": "HTMLView",
      "description": "",
      "description_tooltip": null,
      "layout": "IPY_MODEL_d3782d830c874097ba28eb5db011fb13",
      "placeholder": "​",
      "style": "IPY_MODEL_4a3ba4bdbd984302bbec8eb3226ce882",
      "value": "100%"
     }
    },
    "96d01391e3cb41838f509e6322b0a649": {
     "model_module": "@jupyter-widgets/base",
     "model_module_version": "1.2.0",
     "model_name": "LayoutModel",
     "state": {
      "_model_module": "@jupyter-widgets/base",
      "_model_module_version": "1.2.0",
      "_model_name": "LayoutModel",
      "_view_count": null,
      "_view_module": "@jupyter-widgets/base",
      "_view_module_version": "1.2.0",
      "_view_name": "LayoutView",
      "align_content": null,
      "align_items": null,
      "align_self": null,
      "border": null,
      "bottom": null,
      "display": null,
      "flex": null,
      "flex_flow": null,
      "grid_area": null,
      "grid_auto_columns": null,
      "grid_auto_flow": null,
      "grid_auto_rows": null,
      "grid_column": null,
      "grid_gap": null,
      "grid_row": null,
      "grid_template_areas": null,
      "grid_template_columns": null,
      "grid_template_rows": null,
      "height": null,
      "justify_content": null,
      "justify_items": null,
      "left": null,
      "margin": null,
      "max_height": null,
      "max_width": null,
      "min_height": null,
      "min_width": null,
      "object_fit": null,
      "object_position": null,
      "order": null,
      "overflow": null,
      "overflow_x": null,
      "overflow_y": null,
      "padding": null,
      "right": null,
      "top": null,
      "visibility": null,
      "width": null
     }
    },
    "aa8f0ff095044f6da157b88211764dce": {
     "model_module": "@jupyter-widgets/controls",
     "model_module_version": "1.5.0",
     "model_name": "FloatProgressModel",
     "state": {
      "_dom_classes": [],
      "_model_module": "@jupyter-widgets/controls",
      "_model_module_version": "1.5.0",
      "_model_name": "FloatProgressModel",
      "_view_count": null,
      "_view_module": "@jupyter-widgets/controls",
      "_view_module_version": "1.5.0",
      "_view_name": "ProgressView",
      "bar_style": "success",
      "description": "",
      "description_tooltip": null,
      "layout": "IPY_MODEL_28fe217bf9294cd391593932a21fe47b",
      "max": 196,
      "min": 0,
      "orientation": "horizontal",
      "style": "IPY_MODEL_ab690c3f568d4573944129d1c9f029c1",
      "value": 196
     }
    },
    "ab690c3f568d4573944129d1c9f029c1": {
     "model_module": "@jupyter-widgets/controls",
     "model_module_version": "1.5.0",
     "model_name": "ProgressStyleModel",
     "state": {
      "_model_module": "@jupyter-widgets/controls",
      "_model_module_version": "1.5.0",
      "_model_name": "ProgressStyleModel",
      "_view_count": null,
      "_view_module": "@jupyter-widgets/base",
      "_view_module_version": "1.2.0",
      "_view_name": "StyleView",
      "bar_color": null,
      "description_width": ""
     }
    },
    "aca84e23d7154a22929de94b06a44c28": {
     "model_module": "@jupyter-widgets/controls",
     "model_module_version": "1.5.0",
     "model_name": "HTMLModel",
     "state": {
      "_dom_classes": [],
      "_model_module": "@jupyter-widgets/controls",
      "_model_module_version": "1.5.0",
      "_model_name": "HTMLModel",
      "_view_count": null,
      "_view_module": "@jupyter-widgets/controls",
      "_view_module_version": "1.5.0",
      "_view_name": "HTMLView",
      "description": "",
      "description_tooltip": null,
      "layout": "IPY_MODEL_589c83f14309412aa5a1ae0db5333f1a",
      "placeholder": "​",
      "style": "IPY_MODEL_4fb3b311f9ec4f4ea056433643534fdd",
      "value": " 40/40 [00:06&lt;00:00,  6.74it/s]"
     }
    },
    "b404c864aa80461da34e5e21f37d2000": {
     "model_module": "@jupyter-widgets/controls",
     "model_module_version": "1.5.0",
     "model_name": "FloatProgressModel",
     "state": {
      "_dom_classes": [],
      "_model_module": "@jupyter-widgets/controls",
      "_model_module_version": "1.5.0",
      "_model_name": "FloatProgressModel",
      "_view_count": null,
      "_view_module": "@jupyter-widgets/controls",
      "_view_module_version": "1.5.0",
      "_view_name": "ProgressView",
      "bar_style": "success",
      "description": "",
      "description_tooltip": null,
      "layout": "IPY_MODEL_6df0f0554fde45aba162a8736bb518a3",
      "max": 170498071,
      "min": 0,
      "orientation": "horizontal",
      "style": "IPY_MODEL_6e8e4f53f2e744ca9e4d857af87b67a1",
      "value": 170498071
     }
    },
    "bc952b57969241f5b6bc73937fc9b784": {
     "model_module": "@jupyter-widgets/controls",
     "model_module_version": "1.5.0",
     "model_name": "HTMLModel",
     "state": {
      "_dom_classes": [],
      "_model_module": "@jupyter-widgets/controls",
      "_model_module_version": "1.5.0",
      "_model_name": "HTMLModel",
      "_view_count": null,
      "_view_module": "@jupyter-widgets/controls",
      "_view_module_version": "1.5.0",
      "_view_name": "HTMLView",
      "description": "",
      "description_tooltip": null,
      "layout": "IPY_MODEL_e86c78e9a643457f98515053ae2a74b0",
      "placeholder": "​",
      "style": "IPY_MODEL_647f5ea4399346ed9d53742820f250ed",
      "value": " 196/196 [00:17&lt;00:00, 12.65it/s]"
     }
    },
    "d3782d830c874097ba28eb5db011fb13": {
     "model_module": "@jupyter-widgets/base",
     "model_module_version": "1.2.0",
     "model_name": "LayoutModel",
     "state": {
      "_model_module": "@jupyter-widgets/base",
      "_model_module_version": "1.2.0",
      "_model_name": "LayoutModel",
      "_view_count": null,
      "_view_module": "@jupyter-widgets/base",
      "_view_module_version": "1.2.0",
      "_view_name": "LayoutView",
      "align_content": null,
      "align_items": null,
      "align_self": null,
      "border": null,
      "bottom": null,
      "display": null,
      "flex": null,
      "flex_flow": null,
      "grid_area": null,
      "grid_auto_columns": null,
      "grid_auto_flow": null,
      "grid_auto_rows": null,
      "grid_column": null,
      "grid_gap": null,
      "grid_row": null,
      "grid_template_areas": null,
      "grid_template_columns": null,
      "grid_template_rows": null,
      "height": null,
      "justify_content": null,
      "justify_items": null,
      "left": null,
      "margin": null,
      "max_height": null,
      "max_width": null,
      "min_height": null,
      "min_width": null,
      "object_fit": null,
      "object_position": null,
      "order": null,
      "overflow": null,
      "overflow_x": null,
      "overflow_y": null,
      "padding": null,
      "right": null,
      "top": null,
      "visibility": null,
      "width": null
     }
    },
    "da7d7727c76042a48961913e467bcb29": {
     "model_module": "@jupyter-widgets/base",
     "model_module_version": "1.2.0",
     "model_name": "LayoutModel",
     "state": {
      "_model_module": "@jupyter-widgets/base",
      "_model_module_version": "1.2.0",
      "_model_name": "LayoutModel",
      "_view_count": null,
      "_view_module": "@jupyter-widgets/base",
      "_view_module_version": "1.2.0",
      "_view_name": "LayoutView",
      "align_content": null,
      "align_items": null,
      "align_self": null,
      "border": null,
      "bottom": null,
      "display": null,
      "flex": null,
      "flex_flow": null,
      "grid_area": null,
      "grid_auto_columns": null,
      "grid_auto_flow": null,
      "grid_auto_rows": null,
      "grid_column": null,
      "grid_gap": null,
      "grid_row": null,
      "grid_template_areas": null,
      "grid_template_columns": null,
      "grid_template_rows": null,
      "height": null,
      "justify_content": null,
      "justify_items": null,
      "left": null,
      "margin": null,
      "max_height": null,
      "max_width": null,
      "min_height": null,
      "min_width": null,
      "object_fit": null,
      "object_position": null,
      "order": null,
      "overflow": null,
      "overflow_x": null,
      "overflow_y": null,
      "padding": null,
      "right": null,
      "top": null,
      "visibility": null,
      "width": null
     }
    },
    "dc061c00b3a44cdabef94ffa9e1c0759": {
     "model_module": "@jupyter-widgets/controls",
     "model_module_version": "1.5.0",
     "model_name": "HTMLModel",
     "state": {
      "_dom_classes": [],
      "_model_module": "@jupyter-widgets/controls",
      "_model_module_version": "1.5.0",
      "_model_name": "HTMLModel",
      "_view_count": null,
      "_view_module": "@jupyter-widgets/controls",
      "_view_module_version": "1.5.0",
      "_view_name": "HTMLView",
      "description": "",
      "description_tooltip": null,
      "layout": "IPY_MODEL_046a2cf262004f46861b2856c70b31bc",
      "placeholder": "​",
      "style": "IPY_MODEL_5d0ea130e9c44cf9b1d2de0509a78f30",
      "value": ""
     }
    },
    "dd4f219764884f29a78a65c5671fddc3": {
     "model_module": "@jupyter-widgets/base",
     "model_module_version": "1.2.0",
     "model_name": "LayoutModel",
     "state": {
      "_model_module": "@jupyter-widgets/base",
      "_model_module_version": "1.2.0",
      "_model_name": "LayoutModel",
      "_view_count": null,
      "_view_module": "@jupyter-widgets/base",
      "_view_module_version": "1.2.0",
      "_view_name": "LayoutView",
      "align_content": null,
      "align_items": null,
      "align_self": null,
      "border": null,
      "bottom": null,
      "display": null,
      "flex": null,
      "flex_flow": null,
      "grid_area": null,
      "grid_auto_columns": null,
      "grid_auto_flow": null,
      "grid_auto_rows": null,
      "grid_column": null,
      "grid_gap": null,
      "grid_row": null,
      "grid_template_areas": null,
      "grid_template_columns": null,
      "grid_template_rows": null,
      "height": null,
      "justify_content": null,
      "justify_items": null,
      "left": null,
      "margin": null,
      "max_height": null,
      "max_width": null,
      "min_height": null,
      "min_width": null,
      "object_fit": null,
      "object_position": null,
      "order": null,
      "overflow": null,
      "overflow_x": null,
      "overflow_y": null,
      "padding": null,
      "right": null,
      "top": null,
      "visibility": null,
      "width": null
     }
    },
    "e86c78e9a643457f98515053ae2a74b0": {
     "model_module": "@jupyter-widgets/base",
     "model_module_version": "1.2.0",
     "model_name": "LayoutModel",
     "state": {
      "_model_module": "@jupyter-widgets/base",
      "_model_module_version": "1.2.0",
      "_model_name": "LayoutModel",
      "_view_count": null,
      "_view_module": "@jupyter-widgets/base",
      "_view_module_version": "1.2.0",
      "_view_name": "LayoutView",
      "align_content": null,
      "align_items": null,
      "align_self": null,
      "border": null,
      "bottom": null,
      "display": null,
      "flex": null,
      "flex_flow": null,
      "grid_area": null,
      "grid_auto_columns": null,
      "grid_auto_flow": null,
      "grid_auto_rows": null,
      "grid_column": null,
      "grid_gap": null,
      "grid_row": null,
      "grid_template_areas": null,
      "grid_template_columns": null,
      "grid_template_rows": null,
      "height": null,
      "justify_content": null,
      "justify_items": null,
      "left": null,
      "margin": null,
      "max_height": null,
      "max_width": null,
      "min_height": null,
      "min_width": null,
      "object_fit": null,
      "object_position": null,
      "order": null,
      "overflow": null,
      "overflow_x": null,
      "overflow_y": null,
      "padding": null,
      "right": null,
      "top": null,
      "visibility": null,
      "width": null
     }
    },
    "ff8bb779b044477b915910e7e54935cf": {
     "model_module": "@jupyter-widgets/controls",
     "model_module_version": "1.5.0",
     "model_name": "HTMLModel",
     "state": {
      "_dom_classes": [],
      "_model_module": "@jupyter-widgets/controls",
      "_model_module_version": "1.5.0",
      "_model_name": "HTMLModel",
      "_view_count": null,
      "_view_module": "@jupyter-widgets/controls",
      "_view_module_version": "1.5.0",
      "_view_name": "HTMLView",
      "description": "",
      "description_tooltip": null,
      "layout": "IPY_MODEL_2217476ffe68476a8488173bba719a9c",
      "placeholder": "​",
      "style": "IPY_MODEL_87b27af3d6bb49abb39eeeb132a1cb8e",
      "value": " 170499072/? [00:06&lt;00:00, 30034061.36it/s]"
     }
    }
   }
  }
 },
 "nbformat": 4,
 "nbformat_minor": 1
}
